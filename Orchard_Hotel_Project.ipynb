{
  "nbformat": 4,
  "nbformat_minor": 0,
  "metadata": {
    "colab": {
      "provenance": []
    },
    "kernelspec": {
      "name": "python3",
      "display_name": "Python 3"
    },
    "language_info": {
      "name": "python"
    }
  },
  "cells": [
    {
      "cell_type": "markdown",
      "metadata": {
        "id": "2sfwAy-enzuP"
      },
      "source": [
        "**Group Mini-project - ML Project of the Orchard Hotel**"
      ]
    },
    {
      "cell_type": "markdown",
      "metadata": {
        "id": "4JXTWFcspw-d"
      },
      "source": [
        "# Setup"
      ]
    },
    {
      "cell_type": "markdown",
      "metadata": {
        "id": "l_z7rP8lp0sj"
      },
      "source": [
        "This project requires Python 3.7 or above, Scikit-Learn ≥ 1.0.1, and TensorFlow ≥ 2.8:"
      ]
    },
    {
      "cell_type": "code",
      "execution_count": null,
      "metadata": {
        "id": "ADxbnwrpm44V"
      },
      "outputs": [],
      "source": [
        "import sys\n",
        "\n",
        "assert sys.version_info >= (3, 7)"
      ]
    },
    {
      "cell_type": "code",
      "execution_count": null,
      "metadata": {
        "id": "Dm06bwNep5Zv"
      },
      "outputs": [],
      "source": [
        "from packaging import version\n",
        "import sklearn\n",
        "\n",
        "assert version.parse(sklearn.__version__) >= version.parse(\"1.0.1\")"
      ]
    },
    {
      "cell_type": "code",
      "source": [
        "import tensorflow as tf\n",
        "\n",
        "assert version.parse(tf.__version__) >= version.parse(\"2.8.0\")"
      ],
      "metadata": {
        "id": "_ioKURlI7Teg"
      },
      "execution_count": null,
      "outputs": []
    },
    {
      "cell_type": "markdown",
      "metadata": {
        "id": "hmn3PhMQqGJc"
      },
      "source": [
        "# Import Libraries and Load the Dataset"
      ]
    },
    {
      "cell_type": "code",
      "execution_count": null,
      "metadata": {
        "id": "dAuj5PA9qG5D"
      },
      "outputs": [],
      "source": [
        "# Import necessary libraries\n",
        "import numpy as np      # For numerical operations\n",
        "import pandas as pd     # For data manipulation and analysis\n",
        "import matplotlib.pyplot as plt  # For data visualization\n",
        "import seaborn as sns\n",
        "\n",
        "# Load the Orchard dataset into a Pandas DataFrame\n",
        "orchard = pd.read_csv(\"/content/Orchard_dataset.csv\")"
      ]
    },
    {
      "cell_type": "markdown",
      "source": [
        "Define the default font sizes to make the figures prettier:"
      ],
      "metadata": {
        "id": "Y3QRVPxkyArp"
      }
    },
    {
      "cell_type": "code",
      "source": [
        "plt.rc('font', size=14)\n",
        "plt.rc('axes', labelsize=14, titlesize=14)\n",
        "plt.rc('legend', fontsize=14)\n",
        "plt.rc('xtick', labelsize=10)\n",
        "plt.rc('ytick', labelsize=10)"
      ],
      "metadata": {
        "id": "Vx_BCZS0x95z"
      },
      "execution_count": null,
      "outputs": []
    },
    {
      "cell_type": "markdown",
      "metadata": {
        "id": "PrnaDJQOsat7"
      },
      "source": [
        "# Data Structure Exploration"
      ]
    },
    {
      "cell_type": "code",
      "source": [
        "# Display the top few rows of the dataset\n",
        "orchard.head()"
      ],
      "metadata": {
        "colab": {
          "base_uri": "https://localhost:8080/",
          "height": 226
        },
        "id": "kXa05rB-Sg4J",
        "outputId": "af9fad4d-dea2-4ebb-95f6-74cef95c2960"
      },
      "execution_count": null,
      "outputs": [
        {
          "output_type": "execute_result",
          "data": {
            "text/plain": [
              "  hotel  is_cancelled  lead_time  av_daily_rev  arrival_date_year  \\\n",
              "0    RS             0        342             0               2017   \n",
              "1    RS             0        737             0               2017   \n",
              "2    RS             0          7           469               2017   \n",
              "3    RS             0         13           469               2017   \n",
              "4    RS             0         14           613               2017   \n",
              "\n",
              "  arrival_date_month  arrival_date_week_number  arrival_date_day_of_month  \\\n",
              "0               July                        27                          1   \n",
              "1               July                        27                          1   \n",
              "2               July                        27                          1   \n",
              "3               July                        27                          1   \n",
              "4               July                        27                          1   \n",
              "\n",
              "   stays_in_weekend_nights  stays_in_week_nights  adults  children  babies  \\\n",
              "0                        0                     0       2       0.0       0   \n",
              "1                        0                     0       2       0.0       0   \n",
              "2                        0                     1       1       0.0       0   \n",
              "3                        0                     1       1       0.0       0   \n",
              "4                        0                     2       2       0.0       0   \n",
              "\n",
              "   is_repeated_guest  previous_cancellations  previous_bookings_not_cancelled  \\\n",
              "0                  0                       0                                0   \n",
              "1                  0                       0                                0   \n",
              "2                  0                       0                                0   \n",
              "3                  0                       0                                0   \n",
              "4                  0                       0                                0   \n",
              "\n",
              "  room_type  booking_changes deposit_type  require_pickup  \n",
              "0         C                3   No Deposit               0  \n",
              "1         C                4   No Deposit               0  \n",
              "2         A                0   No Deposit               0  \n",
              "3         A                0   No Deposit               0  \n",
              "4         A                0   No Deposit               0  "
            ],
            "text/html": [
              "\n",
              "  <div id=\"df-85429251-1ecf-4857-96ed-a68d1bdf8b38\" class=\"colab-df-container\">\n",
              "    <div>\n",
              "<style scoped>\n",
              "    .dataframe tbody tr th:only-of-type {\n",
              "        vertical-align: middle;\n",
              "    }\n",
              "\n",
              "    .dataframe tbody tr th {\n",
              "        vertical-align: top;\n",
              "    }\n",
              "\n",
              "    .dataframe thead th {\n",
              "        text-align: right;\n",
              "    }\n",
              "</style>\n",
              "<table border=\"1\" class=\"dataframe\">\n",
              "  <thead>\n",
              "    <tr style=\"text-align: right;\">\n",
              "      <th></th>\n",
              "      <th>hotel</th>\n",
              "      <th>is_cancelled</th>\n",
              "      <th>lead_time</th>\n",
              "      <th>av_daily_rev</th>\n",
              "      <th>arrival_date_year</th>\n",
              "      <th>arrival_date_month</th>\n",
              "      <th>arrival_date_week_number</th>\n",
              "      <th>arrival_date_day_of_month</th>\n",
              "      <th>stays_in_weekend_nights</th>\n",
              "      <th>stays_in_week_nights</th>\n",
              "      <th>adults</th>\n",
              "      <th>children</th>\n",
              "      <th>babies</th>\n",
              "      <th>is_repeated_guest</th>\n",
              "      <th>previous_cancellations</th>\n",
              "      <th>previous_bookings_not_cancelled</th>\n",
              "      <th>room_type</th>\n",
              "      <th>booking_changes</th>\n",
              "      <th>deposit_type</th>\n",
              "      <th>require_pickup</th>\n",
              "    </tr>\n",
              "  </thead>\n",
              "  <tbody>\n",
              "    <tr>\n",
              "      <th>0</th>\n",
              "      <td>RS</td>\n",
              "      <td>0</td>\n",
              "      <td>342</td>\n",
              "      <td>0</td>\n",
              "      <td>2017</td>\n",
              "      <td>July</td>\n",
              "      <td>27</td>\n",
              "      <td>1</td>\n",
              "      <td>0</td>\n",
              "      <td>0</td>\n",
              "      <td>2</td>\n",
              "      <td>0.0</td>\n",
              "      <td>0</td>\n",
              "      <td>0</td>\n",
              "      <td>0</td>\n",
              "      <td>0</td>\n",
              "      <td>C</td>\n",
              "      <td>3</td>\n",
              "      <td>No Deposit</td>\n",
              "      <td>0</td>\n",
              "    </tr>\n",
              "    <tr>\n",
              "      <th>1</th>\n",
              "      <td>RS</td>\n",
              "      <td>0</td>\n",
              "      <td>737</td>\n",
              "      <td>0</td>\n",
              "      <td>2017</td>\n",
              "      <td>July</td>\n",
              "      <td>27</td>\n",
              "      <td>1</td>\n",
              "      <td>0</td>\n",
              "      <td>0</td>\n",
              "      <td>2</td>\n",
              "      <td>0.0</td>\n",
              "      <td>0</td>\n",
              "      <td>0</td>\n",
              "      <td>0</td>\n",
              "      <td>0</td>\n",
              "      <td>C</td>\n",
              "      <td>4</td>\n",
              "      <td>No Deposit</td>\n",
              "      <td>0</td>\n",
              "    </tr>\n",
              "    <tr>\n",
              "      <th>2</th>\n",
              "      <td>RS</td>\n",
              "      <td>0</td>\n",
              "      <td>7</td>\n",
              "      <td>469</td>\n",
              "      <td>2017</td>\n",
              "      <td>July</td>\n",
              "      <td>27</td>\n",
              "      <td>1</td>\n",
              "      <td>0</td>\n",
              "      <td>1</td>\n",
              "      <td>1</td>\n",
              "      <td>0.0</td>\n",
              "      <td>0</td>\n",
              "      <td>0</td>\n",
              "      <td>0</td>\n",
              "      <td>0</td>\n",
              "      <td>A</td>\n",
              "      <td>0</td>\n",
              "      <td>No Deposit</td>\n",
              "      <td>0</td>\n",
              "    </tr>\n",
              "    <tr>\n",
              "      <th>3</th>\n",
              "      <td>RS</td>\n",
              "      <td>0</td>\n",
              "      <td>13</td>\n",
              "      <td>469</td>\n",
              "      <td>2017</td>\n",
              "      <td>July</td>\n",
              "      <td>27</td>\n",
              "      <td>1</td>\n",
              "      <td>0</td>\n",
              "      <td>1</td>\n",
              "      <td>1</td>\n",
              "      <td>0.0</td>\n",
              "      <td>0</td>\n",
              "      <td>0</td>\n",
              "      <td>0</td>\n",
              "      <td>0</td>\n",
              "      <td>A</td>\n",
              "      <td>0</td>\n",
              "      <td>No Deposit</td>\n",
              "      <td>0</td>\n",
              "    </tr>\n",
              "    <tr>\n",
              "      <th>4</th>\n",
              "      <td>RS</td>\n",
              "      <td>0</td>\n",
              "      <td>14</td>\n",
              "      <td>613</td>\n",
              "      <td>2017</td>\n",
              "      <td>July</td>\n",
              "      <td>27</td>\n",
              "      <td>1</td>\n",
              "      <td>0</td>\n",
              "      <td>2</td>\n",
              "      <td>2</td>\n",
              "      <td>0.0</td>\n",
              "      <td>0</td>\n",
              "      <td>0</td>\n",
              "      <td>0</td>\n",
              "      <td>0</td>\n",
              "      <td>A</td>\n",
              "      <td>0</td>\n",
              "      <td>No Deposit</td>\n",
              "      <td>0</td>\n",
              "    </tr>\n",
              "  </tbody>\n",
              "</table>\n",
              "</div>\n",
              "    <div class=\"colab-df-buttons\">\n",
              "\n",
              "  <div class=\"colab-df-container\">\n",
              "    <button class=\"colab-df-convert\" onclick=\"convertToInteractive('df-85429251-1ecf-4857-96ed-a68d1bdf8b38')\"\n",
              "            title=\"Convert this dataframe to an interactive table.\"\n",
              "            style=\"display:none;\">\n",
              "\n",
              "  <svg xmlns=\"http://www.w3.org/2000/svg\" height=\"24px\" viewBox=\"0 -960 960 960\">\n",
              "    <path d=\"M120-120v-720h720v720H120Zm60-500h600v-160H180v160Zm220 220h160v-160H400v160Zm0 220h160v-160H400v160ZM180-400h160v-160H180v160Zm440 0h160v-160H620v160ZM180-180h160v-160H180v160Zm440 0h160v-160H620v160Z\"/>\n",
              "  </svg>\n",
              "    </button>\n",
              "\n",
              "  <style>\n",
              "    .colab-df-container {\n",
              "      display:flex;\n",
              "      gap: 12px;\n",
              "    }\n",
              "\n",
              "    .colab-df-convert {\n",
              "      background-color: #E8F0FE;\n",
              "      border: none;\n",
              "      border-radius: 50%;\n",
              "      cursor: pointer;\n",
              "      display: none;\n",
              "      fill: #1967D2;\n",
              "      height: 32px;\n",
              "      padding: 0 0 0 0;\n",
              "      width: 32px;\n",
              "    }\n",
              "\n",
              "    .colab-df-convert:hover {\n",
              "      background-color: #E2EBFA;\n",
              "      box-shadow: 0px 1px 2px rgba(60, 64, 67, 0.3), 0px 1px 3px 1px rgba(60, 64, 67, 0.15);\n",
              "      fill: #174EA6;\n",
              "    }\n",
              "\n",
              "    .colab-df-buttons div {\n",
              "      margin-bottom: 4px;\n",
              "    }\n",
              "\n",
              "    [theme=dark] .colab-df-convert {\n",
              "      background-color: #3B4455;\n",
              "      fill: #D2E3FC;\n",
              "    }\n",
              "\n",
              "    [theme=dark] .colab-df-convert:hover {\n",
              "      background-color: #434B5C;\n",
              "      box-shadow: 0px 1px 3px 1px rgba(0, 0, 0, 0.15);\n",
              "      filter: drop-shadow(0px 1px 2px rgba(0, 0, 0, 0.3));\n",
              "      fill: #FFFFFF;\n",
              "    }\n",
              "  </style>\n",
              "\n",
              "    <script>\n",
              "      const buttonEl =\n",
              "        document.querySelector('#df-85429251-1ecf-4857-96ed-a68d1bdf8b38 button.colab-df-convert');\n",
              "      buttonEl.style.display =\n",
              "        google.colab.kernel.accessAllowed ? 'block' : 'none';\n",
              "\n",
              "      async function convertToInteractive(key) {\n",
              "        const element = document.querySelector('#df-85429251-1ecf-4857-96ed-a68d1bdf8b38');\n",
              "        const dataTable =\n",
              "          await google.colab.kernel.invokeFunction('convertToInteractive',\n",
              "                                                    [key], {});\n",
              "        if (!dataTable) return;\n",
              "\n",
              "        const docLinkHtml = 'Like what you see? Visit the ' +\n",
              "          '<a target=\"_blank\" href=https://colab.research.google.com/notebooks/data_table.ipynb>data table notebook</a>'\n",
              "          + ' to learn more about interactive tables.';\n",
              "        element.innerHTML = '';\n",
              "        dataTable['output_type'] = 'display_data';\n",
              "        await google.colab.output.renderOutput(dataTable, element);\n",
              "        const docLink = document.createElement('div');\n",
              "        docLink.innerHTML = docLinkHtml;\n",
              "        element.appendChild(docLink);\n",
              "      }\n",
              "    </script>\n",
              "  </div>\n",
              "\n",
              "\n",
              "<div id=\"df-4076af0c-c66b-4739-8d90-472c88635719\">\n",
              "  <button class=\"colab-df-quickchart\" onclick=\"quickchart('df-4076af0c-c66b-4739-8d90-472c88635719')\"\n",
              "            title=\"Suggest charts\"\n",
              "            style=\"display:none;\">\n",
              "\n",
              "<svg xmlns=\"http://www.w3.org/2000/svg\" height=\"24px\"viewBox=\"0 0 24 24\"\n",
              "     width=\"24px\">\n",
              "    <g>\n",
              "        <path d=\"M19 3H5c-1.1 0-2 .9-2 2v14c0 1.1.9 2 2 2h14c1.1 0 2-.9 2-2V5c0-1.1-.9-2-2-2zM9 17H7v-7h2v7zm4 0h-2V7h2v10zm4 0h-2v-4h2v4z\"/>\n",
              "    </g>\n",
              "</svg>\n",
              "  </button>\n",
              "\n",
              "<style>\n",
              "  .colab-df-quickchart {\n",
              "      --bg-color: #E8F0FE;\n",
              "      --fill-color: #1967D2;\n",
              "      --hover-bg-color: #E2EBFA;\n",
              "      --hover-fill-color: #174EA6;\n",
              "      --disabled-fill-color: #AAA;\n",
              "      --disabled-bg-color: #DDD;\n",
              "  }\n",
              "\n",
              "  [theme=dark] .colab-df-quickchart {\n",
              "      --bg-color: #3B4455;\n",
              "      --fill-color: #D2E3FC;\n",
              "      --hover-bg-color: #434B5C;\n",
              "      --hover-fill-color: #FFFFFF;\n",
              "      --disabled-bg-color: #3B4455;\n",
              "      --disabled-fill-color: #666;\n",
              "  }\n",
              "\n",
              "  .colab-df-quickchart {\n",
              "    background-color: var(--bg-color);\n",
              "    border: none;\n",
              "    border-radius: 50%;\n",
              "    cursor: pointer;\n",
              "    display: none;\n",
              "    fill: var(--fill-color);\n",
              "    height: 32px;\n",
              "    padding: 0;\n",
              "    width: 32px;\n",
              "  }\n",
              "\n",
              "  .colab-df-quickchart:hover {\n",
              "    background-color: var(--hover-bg-color);\n",
              "    box-shadow: 0 1px 2px rgba(60, 64, 67, 0.3), 0 1px 3px 1px rgba(60, 64, 67, 0.15);\n",
              "    fill: var(--button-hover-fill-color);\n",
              "  }\n",
              "\n",
              "  .colab-df-quickchart-complete:disabled,\n",
              "  .colab-df-quickchart-complete:disabled:hover {\n",
              "    background-color: var(--disabled-bg-color);\n",
              "    fill: var(--disabled-fill-color);\n",
              "    box-shadow: none;\n",
              "  }\n",
              "\n",
              "  .colab-df-spinner {\n",
              "    border: 2px solid var(--fill-color);\n",
              "    border-color: transparent;\n",
              "    border-bottom-color: var(--fill-color);\n",
              "    animation:\n",
              "      spin 1s steps(1) infinite;\n",
              "  }\n",
              "\n",
              "  @keyframes spin {\n",
              "    0% {\n",
              "      border-color: transparent;\n",
              "      border-bottom-color: var(--fill-color);\n",
              "      border-left-color: var(--fill-color);\n",
              "    }\n",
              "    20% {\n",
              "      border-color: transparent;\n",
              "      border-left-color: var(--fill-color);\n",
              "      border-top-color: var(--fill-color);\n",
              "    }\n",
              "    30% {\n",
              "      border-color: transparent;\n",
              "      border-left-color: var(--fill-color);\n",
              "      border-top-color: var(--fill-color);\n",
              "      border-right-color: var(--fill-color);\n",
              "    }\n",
              "    40% {\n",
              "      border-color: transparent;\n",
              "      border-right-color: var(--fill-color);\n",
              "      border-top-color: var(--fill-color);\n",
              "    }\n",
              "    60% {\n",
              "      border-color: transparent;\n",
              "      border-right-color: var(--fill-color);\n",
              "    }\n",
              "    80% {\n",
              "      border-color: transparent;\n",
              "      border-right-color: var(--fill-color);\n",
              "      border-bottom-color: var(--fill-color);\n",
              "    }\n",
              "    90% {\n",
              "      border-color: transparent;\n",
              "      border-bottom-color: var(--fill-color);\n",
              "    }\n",
              "  }\n",
              "</style>\n",
              "\n",
              "  <script>\n",
              "    async function quickchart(key) {\n",
              "      const quickchartButtonEl =\n",
              "        document.querySelector('#' + key + ' button');\n",
              "      quickchartButtonEl.disabled = true;  // To prevent multiple clicks.\n",
              "      quickchartButtonEl.classList.add('colab-df-spinner');\n",
              "      try {\n",
              "        const charts = await google.colab.kernel.invokeFunction(\n",
              "            'suggestCharts', [key], {});\n",
              "      } catch (error) {\n",
              "        console.error('Error during call to suggestCharts:', error);\n",
              "      }\n",
              "      quickchartButtonEl.classList.remove('colab-df-spinner');\n",
              "      quickchartButtonEl.classList.add('colab-df-quickchart-complete');\n",
              "    }\n",
              "    (() => {\n",
              "      let quickchartButtonEl =\n",
              "        document.querySelector('#df-4076af0c-c66b-4739-8d90-472c88635719 button');\n",
              "      quickchartButtonEl.style.display =\n",
              "        google.colab.kernel.accessAllowed ? 'block' : 'none';\n",
              "    })();\n",
              "  </script>\n",
              "</div>\n",
              "    </div>\n",
              "  </div>\n"
            ],
            "application/vnd.google.colaboratory.intrinsic+json": {
              "type": "dataframe",
              "variable_name": "orchard"
            }
          },
          "metadata": {},
          "execution_count": 7
        }
      ]
    },
    {
      "cell_type": "code",
      "source": [
        "orchard.shape"
      ],
      "metadata": {
        "colab": {
          "base_uri": "https://localhost:8080/"
        },
        "id": "7mdX-YrM4jYM",
        "outputId": "e13f3684-a209-47df-e150-2eb61e523de4"
      },
      "execution_count": null,
      "outputs": [
        {
          "output_type": "execute_result",
          "data": {
            "text/plain": [
              "(119390, 20)"
            ]
          },
          "metadata": {},
          "execution_count": 8
        }
      ]
    },
    {
      "cell_type": "markdown",
      "source": [
        "The Orchard dataset has 119,390 records (rows) and 20 features (columns)."
      ],
      "metadata": {
        "id": "Q1qr3UGh5UrX"
      }
    },
    {
      "cell_type": "code",
      "source": [
        "# Get a summary description of the data structure\n",
        "orchard.info()"
      ],
      "metadata": {
        "colab": {
          "base_uri": "https://localhost:8080/"
        },
        "id": "D4XW_DGjTsuj",
        "outputId": "3c53d260-6d61-4147-94f8-56eae20879ee"
      },
      "execution_count": null,
      "outputs": [
        {
          "output_type": "stream",
          "name": "stdout",
          "text": [
            "<class 'pandas.core.frame.DataFrame'>\n",
            "RangeIndex: 119390 entries, 0 to 119389\n",
            "Data columns (total 20 columns):\n",
            " #   Column                           Non-Null Count   Dtype  \n",
            "---  ------                           --------------   -----  \n",
            " 0   hotel                            119390 non-null  object \n",
            " 1   is_cancelled                     119390 non-null  int64  \n",
            " 2   lead_time                        119390 non-null  int64  \n",
            " 3   av_daily_rev                     119390 non-null  int64  \n",
            " 4   arrival_date_year                119390 non-null  int64  \n",
            " 5   arrival_date_month               119390 non-null  object \n",
            " 6   arrival_date_week_number         119390 non-null  int64  \n",
            " 7   arrival_date_day_of_month        119390 non-null  int64  \n",
            " 8   stays_in_weekend_nights          119390 non-null  int64  \n",
            " 9   stays_in_week_nights             119390 non-null  int64  \n",
            " 10  adults                           119390 non-null  int64  \n",
            " 11  children                         119386 non-null  float64\n",
            " 12  babies                           119390 non-null  int64  \n",
            " 13  is_repeated_guest                119390 non-null  int64  \n",
            " 14  previous_cancellations           119390 non-null  int64  \n",
            " 15  previous_bookings_not_cancelled  119390 non-null  int64  \n",
            " 16  room_type                        119390 non-null  object \n",
            " 17  booking_changes                  119390 non-null  int64  \n",
            " 18  deposit_type                     119390 non-null  object \n",
            " 19  require_pickup                   119390 non-null  int64  \n",
            "dtypes: float64(1), int64(15), object(4)\n",
            "memory usage: 18.2+ MB\n"
          ]
        }
      ]
    },
    {
      "cell_type": "markdown",
      "source": [
        "The dataset has 4 character variables, namely \"hotel\", \"arrival_date_month\", \"room_type\", and \"deposit_type\". The remaining 16 variables are numeric. Only the \"children\" variable has missing values."
      ],
      "metadata": {
        "id": "_XzQhmBO4dlt"
      }
    },
    {
      "cell_type": "markdown",
      "source": [
        "## Categorical Attributes"
      ],
      "metadata": {
        "id": "hCWMqYox-dF2"
      }
    },
    {
      "cell_type": "code",
      "source": [
        "# Set the \"hotel\" variable as the index column\n",
        "orchard = orchard.set_index(\"hotel\")"
      ],
      "metadata": {
        "id": "HzEF8BrP5qBA"
      },
      "execution_count": null,
      "outputs": []
    },
    {
      "cell_type": "markdown",
      "source": [
        "Take a quick look at the categorical attributes:"
      ],
      "metadata": {
        "id": "t8amlxmHGZHS"
      }
    },
    {
      "cell_type": "code",
      "source": [
        "orchard[\"arrival_date_month\"].value_counts()"
      ],
      "metadata": {
        "colab": {
          "base_uri": "https://localhost:8080/"
        },
        "id": "bskUtmMY-WRu",
        "outputId": "63ea32b7-44ef-430a-a308-478c9b9d74db"
      },
      "execution_count": null,
      "outputs": [
        {
          "output_type": "execute_result",
          "data": {
            "text/plain": [
              "arrival_date_month\n",
              "August       13877\n",
              "July         12661\n",
              "May          11791\n",
              "October      11160\n",
              "April        11089\n",
              "June         10939\n",
              "September    10508\n",
              "March         9794\n",
              "February      8068\n",
              "November      6794\n",
              "December      6780\n",
              "January       5929\n",
              "Name: count, dtype: int64"
            ]
          },
          "metadata": {},
          "execution_count": 11
        }
      ]
    },
    {
      "cell_type": "markdown",
      "source": [
        "抵达月份大部分是气温暖和的5-10月，暑假、五一、十一小长假，可以联系中国节假日，中国游客是东南亚旅游的主力军。后面在可视化中更直观地表现"
      ],
      "metadata": {
        "id": "GTm-v2TeGK80"
      }
    },
    {
      "cell_type": "code",
      "source": [
        "orchard[\"room_type\"].value_counts()"
      ],
      "metadata": {
        "colab": {
          "base_uri": "https://localhost:8080/"
        },
        "id": "_p9YoeeGDram",
        "outputId": "58bb02cd-cd73-47f4-cdcb-24684b70ce35"
      },
      "execution_count": null,
      "outputs": [
        {
          "output_type": "execute_result",
          "data": {
            "text/plain": [
              "room_type\n",
              "A    85994\n",
              "D    19201\n",
              "E     6535\n",
              "F     2897\n",
              "G     2094\n",
              "B     1118\n",
              "C      932\n",
              "H      601\n",
              "P       12\n",
              "L        6\n",
              "Name: count, dtype: int64"
            ]
          },
          "metadata": {},
          "execution_count": 12
        }
      ]
    },
    {
      "cell_type": "markdown",
      "source": [
        "由十个大写字母表示的房间类型，A和D最受欢迎"
      ],
      "metadata": {
        "id": "1yzF3l9mHrGn"
      }
    },
    {
      "cell_type": "code",
      "source": [
        "orchard[\"deposit_type\"].value_counts()"
      ],
      "metadata": {
        "colab": {
          "base_uri": "https://localhost:8080/"
        },
        "id": "kPsQQZMQHi6x",
        "outputId": "02a800ce-0db9-4f3e-d8a5-1051ebcbd8c0"
      },
      "execution_count": null,
      "outputs": [
        {
          "output_type": "execute_result",
          "data": {
            "text/plain": [
              "deposit_type\n",
              "No Deposit    104641\n",
              "Non Refund     14587\n",
              "Refundable       162\n",
              "Name: count, dtype: int64"
            ]
          },
          "metadata": {},
          "execution_count": 13
        }
      ]
    },
    {
      "cell_type": "markdown",
      "source": [
        "无订金，不可退款，可退款三种，无订金预定最多"
      ],
      "metadata": {
        "id": "euIHt_4tH18o"
      }
    },
    {
      "cell_type": "markdown",
      "source": [
        "## Numerical Attributes"
      ],
      "metadata": {
        "id": "ckesUkN_IVrI"
      }
    },
    {
      "cell_type": "code",
      "source": [
        "# Show the summary statistics of other numerical attributes\n",
        "orchard.describe()"
      ],
      "metadata": {
        "colab": {
          "base_uri": "https://localhost:8080/",
          "height": 320
        },
        "id": "SKoSItqz8avC",
        "outputId": "a9f4ebb2-6e7d-42ab-82ec-7b9cb008b3ac"
      },
      "execution_count": null,
      "outputs": [
        {
          "output_type": "execute_result",
          "data": {
            "text/plain": [
              "        is_cancelled      lead_time   av_daily_rev  arrival_date_year  \\\n",
              "count  119390.000000  119390.000000  119390.000000      119390.000000   \n",
              "mean        0.370416     104.011416     636.612891        2018.156554   \n",
              "std         0.482918     106.863097     315.852781           0.707476   \n",
              "min         0.000000       0.000000     -40.000000        2017.000000   \n",
              "25%         0.000000      18.000000     433.000000        2018.000000   \n",
              "50%         0.000000      69.000000     591.000000        2018.000000   \n",
              "75%         1.000000     160.000000     788.000000        2019.000000   \n",
              "max         1.000000     737.000000   33750.000000        2019.000000   \n",
              "\n",
              "       arrival_date_week_number  arrival_date_day_of_month  \\\n",
              "count             119390.000000              119390.000000   \n",
              "mean                  27.165173                  15.798241   \n",
              "std                   13.605138                   8.780829   \n",
              "min                    1.000000                   1.000000   \n",
              "25%                   16.000000                   8.000000   \n",
              "50%                   28.000000                  16.000000   \n",
              "75%                   38.000000                  23.000000   \n",
              "max                   53.000000                  31.000000   \n",
              "\n",
              "       stays_in_weekend_nights  stays_in_week_nights         adults  \\\n",
              "count            119390.000000         119390.000000  119390.000000   \n",
              "mean                  0.927599              2.500302       1.856403   \n",
              "std                   0.998613              1.908286       0.579261   \n",
              "min                   0.000000              0.000000       0.000000   \n",
              "25%                   0.000000              1.000000       2.000000   \n",
              "50%                   1.000000              2.000000       2.000000   \n",
              "75%                   2.000000              3.000000       2.000000   \n",
              "max                  19.000000             50.000000      55.000000   \n",
              "\n",
              "            children         babies  is_repeated_guest  \\\n",
              "count  119386.000000  119390.000000      119390.000000   \n",
              "mean        0.103890       0.007949           0.031912   \n",
              "std         0.398561       0.097436           0.175767   \n",
              "min         0.000000       0.000000           0.000000   \n",
              "25%         0.000000       0.000000           0.000000   \n",
              "50%         0.000000       0.000000           0.000000   \n",
              "75%         0.000000       0.000000           0.000000   \n",
              "max        10.000000      10.000000           1.000000   \n",
              "\n",
              "       previous_cancellations  previous_bookings_not_cancelled  \\\n",
              "count           119390.000000                    119390.000000   \n",
              "mean                 0.087118                         0.137097   \n",
              "std                  0.844336                         1.497437   \n",
              "min                  0.000000                         0.000000   \n",
              "25%                  0.000000                         0.000000   \n",
              "50%                  0.000000                         0.000000   \n",
              "75%                  0.000000                         0.000000   \n",
              "max                 26.000000                        72.000000   \n",
              "\n",
              "       booking_changes  require_pickup  \n",
              "count    119390.000000   119390.000000  \n",
              "mean          0.221124        0.062518  \n",
              "std           0.652306        0.245291  \n",
              "min           0.000000        0.000000  \n",
              "25%           0.000000        0.000000  \n",
              "50%           0.000000        0.000000  \n",
              "75%           0.000000        0.000000  \n",
              "max          21.000000        8.000000  "
            ],
            "text/html": [
              "\n",
              "  <div id=\"df-99c755d0-73aa-42e5-b04f-a616c21aa23a\" class=\"colab-df-container\">\n",
              "    <div>\n",
              "<style scoped>\n",
              "    .dataframe tbody tr th:only-of-type {\n",
              "        vertical-align: middle;\n",
              "    }\n",
              "\n",
              "    .dataframe tbody tr th {\n",
              "        vertical-align: top;\n",
              "    }\n",
              "\n",
              "    .dataframe thead th {\n",
              "        text-align: right;\n",
              "    }\n",
              "</style>\n",
              "<table border=\"1\" class=\"dataframe\">\n",
              "  <thead>\n",
              "    <tr style=\"text-align: right;\">\n",
              "      <th></th>\n",
              "      <th>is_cancelled</th>\n",
              "      <th>lead_time</th>\n",
              "      <th>av_daily_rev</th>\n",
              "      <th>arrival_date_year</th>\n",
              "      <th>arrival_date_week_number</th>\n",
              "      <th>arrival_date_day_of_month</th>\n",
              "      <th>stays_in_weekend_nights</th>\n",
              "      <th>stays_in_week_nights</th>\n",
              "      <th>adults</th>\n",
              "      <th>children</th>\n",
              "      <th>babies</th>\n",
              "      <th>is_repeated_guest</th>\n",
              "      <th>previous_cancellations</th>\n",
              "      <th>previous_bookings_not_cancelled</th>\n",
              "      <th>booking_changes</th>\n",
              "      <th>require_pickup</th>\n",
              "    </tr>\n",
              "  </thead>\n",
              "  <tbody>\n",
              "    <tr>\n",
              "      <th>count</th>\n",
              "      <td>119390.000000</td>\n",
              "      <td>119390.000000</td>\n",
              "      <td>119390.000000</td>\n",
              "      <td>119390.000000</td>\n",
              "      <td>119390.000000</td>\n",
              "      <td>119390.000000</td>\n",
              "      <td>119390.000000</td>\n",
              "      <td>119390.000000</td>\n",
              "      <td>119390.000000</td>\n",
              "      <td>119386.000000</td>\n",
              "      <td>119390.000000</td>\n",
              "      <td>119390.000000</td>\n",
              "      <td>119390.000000</td>\n",
              "      <td>119390.000000</td>\n",
              "      <td>119390.000000</td>\n",
              "      <td>119390.000000</td>\n",
              "    </tr>\n",
              "    <tr>\n",
              "      <th>mean</th>\n",
              "      <td>0.370416</td>\n",
              "      <td>104.011416</td>\n",
              "      <td>636.612891</td>\n",
              "      <td>2018.156554</td>\n",
              "      <td>27.165173</td>\n",
              "      <td>15.798241</td>\n",
              "      <td>0.927599</td>\n",
              "      <td>2.500302</td>\n",
              "      <td>1.856403</td>\n",
              "      <td>0.103890</td>\n",
              "      <td>0.007949</td>\n",
              "      <td>0.031912</td>\n",
              "      <td>0.087118</td>\n",
              "      <td>0.137097</td>\n",
              "      <td>0.221124</td>\n",
              "      <td>0.062518</td>\n",
              "    </tr>\n",
              "    <tr>\n",
              "      <th>std</th>\n",
              "      <td>0.482918</td>\n",
              "      <td>106.863097</td>\n",
              "      <td>315.852781</td>\n",
              "      <td>0.707476</td>\n",
              "      <td>13.605138</td>\n",
              "      <td>8.780829</td>\n",
              "      <td>0.998613</td>\n",
              "      <td>1.908286</td>\n",
              "      <td>0.579261</td>\n",
              "      <td>0.398561</td>\n",
              "      <td>0.097436</td>\n",
              "      <td>0.175767</td>\n",
              "      <td>0.844336</td>\n",
              "      <td>1.497437</td>\n",
              "      <td>0.652306</td>\n",
              "      <td>0.245291</td>\n",
              "    </tr>\n",
              "    <tr>\n",
              "      <th>min</th>\n",
              "      <td>0.000000</td>\n",
              "      <td>0.000000</td>\n",
              "      <td>-40.000000</td>\n",
              "      <td>2017.000000</td>\n",
              "      <td>1.000000</td>\n",
              "      <td>1.000000</td>\n",
              "      <td>0.000000</td>\n",
              "      <td>0.000000</td>\n",
              "      <td>0.000000</td>\n",
              "      <td>0.000000</td>\n",
              "      <td>0.000000</td>\n",
              "      <td>0.000000</td>\n",
              "      <td>0.000000</td>\n",
              "      <td>0.000000</td>\n",
              "      <td>0.000000</td>\n",
              "      <td>0.000000</td>\n",
              "    </tr>\n",
              "    <tr>\n",
              "      <th>25%</th>\n",
              "      <td>0.000000</td>\n",
              "      <td>18.000000</td>\n",
              "      <td>433.000000</td>\n",
              "      <td>2018.000000</td>\n",
              "      <td>16.000000</td>\n",
              "      <td>8.000000</td>\n",
              "      <td>0.000000</td>\n",
              "      <td>1.000000</td>\n",
              "      <td>2.000000</td>\n",
              "      <td>0.000000</td>\n",
              "      <td>0.000000</td>\n",
              "      <td>0.000000</td>\n",
              "      <td>0.000000</td>\n",
              "      <td>0.000000</td>\n",
              "      <td>0.000000</td>\n",
              "      <td>0.000000</td>\n",
              "    </tr>\n",
              "    <tr>\n",
              "      <th>50%</th>\n",
              "      <td>0.000000</td>\n",
              "      <td>69.000000</td>\n",
              "      <td>591.000000</td>\n",
              "      <td>2018.000000</td>\n",
              "      <td>28.000000</td>\n",
              "      <td>16.000000</td>\n",
              "      <td>1.000000</td>\n",
              "      <td>2.000000</td>\n",
              "      <td>2.000000</td>\n",
              "      <td>0.000000</td>\n",
              "      <td>0.000000</td>\n",
              "      <td>0.000000</td>\n",
              "      <td>0.000000</td>\n",
              "      <td>0.000000</td>\n",
              "      <td>0.000000</td>\n",
              "      <td>0.000000</td>\n",
              "    </tr>\n",
              "    <tr>\n",
              "      <th>75%</th>\n",
              "      <td>1.000000</td>\n",
              "      <td>160.000000</td>\n",
              "      <td>788.000000</td>\n",
              "      <td>2019.000000</td>\n",
              "      <td>38.000000</td>\n",
              "      <td>23.000000</td>\n",
              "      <td>2.000000</td>\n",
              "      <td>3.000000</td>\n",
              "      <td>2.000000</td>\n",
              "      <td>0.000000</td>\n",
              "      <td>0.000000</td>\n",
              "      <td>0.000000</td>\n",
              "      <td>0.000000</td>\n",
              "      <td>0.000000</td>\n",
              "      <td>0.000000</td>\n",
              "      <td>0.000000</td>\n",
              "    </tr>\n",
              "    <tr>\n",
              "      <th>max</th>\n",
              "      <td>1.000000</td>\n",
              "      <td>737.000000</td>\n",
              "      <td>33750.000000</td>\n",
              "      <td>2019.000000</td>\n",
              "      <td>53.000000</td>\n",
              "      <td>31.000000</td>\n",
              "      <td>19.000000</td>\n",
              "      <td>50.000000</td>\n",
              "      <td>55.000000</td>\n",
              "      <td>10.000000</td>\n",
              "      <td>10.000000</td>\n",
              "      <td>1.000000</td>\n",
              "      <td>26.000000</td>\n",
              "      <td>72.000000</td>\n",
              "      <td>21.000000</td>\n",
              "      <td>8.000000</td>\n",
              "    </tr>\n",
              "  </tbody>\n",
              "</table>\n",
              "</div>\n",
              "    <div class=\"colab-df-buttons\">\n",
              "\n",
              "  <div class=\"colab-df-container\">\n",
              "    <button class=\"colab-df-convert\" onclick=\"convertToInteractive('df-99c755d0-73aa-42e5-b04f-a616c21aa23a')\"\n",
              "            title=\"Convert this dataframe to an interactive table.\"\n",
              "            style=\"display:none;\">\n",
              "\n",
              "  <svg xmlns=\"http://www.w3.org/2000/svg\" height=\"24px\" viewBox=\"0 -960 960 960\">\n",
              "    <path d=\"M120-120v-720h720v720H120Zm60-500h600v-160H180v160Zm220 220h160v-160H400v160Zm0 220h160v-160H400v160ZM180-400h160v-160H180v160Zm440 0h160v-160H620v160ZM180-180h160v-160H180v160Zm440 0h160v-160H620v160Z\"/>\n",
              "  </svg>\n",
              "    </button>\n",
              "\n",
              "  <style>\n",
              "    .colab-df-container {\n",
              "      display:flex;\n",
              "      gap: 12px;\n",
              "    }\n",
              "\n",
              "    .colab-df-convert {\n",
              "      background-color: #E8F0FE;\n",
              "      border: none;\n",
              "      border-radius: 50%;\n",
              "      cursor: pointer;\n",
              "      display: none;\n",
              "      fill: #1967D2;\n",
              "      height: 32px;\n",
              "      padding: 0 0 0 0;\n",
              "      width: 32px;\n",
              "    }\n",
              "\n",
              "    .colab-df-convert:hover {\n",
              "      background-color: #E2EBFA;\n",
              "      box-shadow: 0px 1px 2px rgba(60, 64, 67, 0.3), 0px 1px 3px 1px rgba(60, 64, 67, 0.15);\n",
              "      fill: #174EA6;\n",
              "    }\n",
              "\n",
              "    .colab-df-buttons div {\n",
              "      margin-bottom: 4px;\n",
              "    }\n",
              "\n",
              "    [theme=dark] .colab-df-convert {\n",
              "      background-color: #3B4455;\n",
              "      fill: #D2E3FC;\n",
              "    }\n",
              "\n",
              "    [theme=dark] .colab-df-convert:hover {\n",
              "      background-color: #434B5C;\n",
              "      box-shadow: 0px 1px 3px 1px rgba(0, 0, 0, 0.15);\n",
              "      filter: drop-shadow(0px 1px 2px rgba(0, 0, 0, 0.3));\n",
              "      fill: #FFFFFF;\n",
              "    }\n",
              "  </style>\n",
              "\n",
              "    <script>\n",
              "      const buttonEl =\n",
              "        document.querySelector('#df-99c755d0-73aa-42e5-b04f-a616c21aa23a button.colab-df-convert');\n",
              "      buttonEl.style.display =\n",
              "        google.colab.kernel.accessAllowed ? 'block' : 'none';\n",
              "\n",
              "      async function convertToInteractive(key) {\n",
              "        const element = document.querySelector('#df-99c755d0-73aa-42e5-b04f-a616c21aa23a');\n",
              "        const dataTable =\n",
              "          await google.colab.kernel.invokeFunction('convertToInteractive',\n",
              "                                                    [key], {});\n",
              "        if (!dataTable) return;\n",
              "\n",
              "        const docLinkHtml = 'Like what you see? Visit the ' +\n",
              "          '<a target=\"_blank\" href=https://colab.research.google.com/notebooks/data_table.ipynb>data table notebook</a>'\n",
              "          + ' to learn more about interactive tables.';\n",
              "        element.innerHTML = '';\n",
              "        dataTable['output_type'] = 'display_data';\n",
              "        await google.colab.output.renderOutput(dataTable, element);\n",
              "        const docLink = document.createElement('div');\n",
              "        docLink.innerHTML = docLinkHtml;\n",
              "        element.appendChild(docLink);\n",
              "      }\n",
              "    </script>\n",
              "  </div>\n",
              "\n",
              "\n",
              "<div id=\"df-f8cad8be-1e76-4b1a-8565-51761902deec\">\n",
              "  <button class=\"colab-df-quickchart\" onclick=\"quickchart('df-f8cad8be-1e76-4b1a-8565-51761902deec')\"\n",
              "            title=\"Suggest charts\"\n",
              "            style=\"display:none;\">\n",
              "\n",
              "<svg xmlns=\"http://www.w3.org/2000/svg\" height=\"24px\"viewBox=\"0 0 24 24\"\n",
              "     width=\"24px\">\n",
              "    <g>\n",
              "        <path d=\"M19 3H5c-1.1 0-2 .9-2 2v14c0 1.1.9 2 2 2h14c1.1 0 2-.9 2-2V5c0-1.1-.9-2-2-2zM9 17H7v-7h2v7zm4 0h-2V7h2v10zm4 0h-2v-4h2v4z\"/>\n",
              "    </g>\n",
              "</svg>\n",
              "  </button>\n",
              "\n",
              "<style>\n",
              "  .colab-df-quickchart {\n",
              "      --bg-color: #E8F0FE;\n",
              "      --fill-color: #1967D2;\n",
              "      --hover-bg-color: #E2EBFA;\n",
              "      --hover-fill-color: #174EA6;\n",
              "      --disabled-fill-color: #AAA;\n",
              "      --disabled-bg-color: #DDD;\n",
              "  }\n",
              "\n",
              "  [theme=dark] .colab-df-quickchart {\n",
              "      --bg-color: #3B4455;\n",
              "      --fill-color: #D2E3FC;\n",
              "      --hover-bg-color: #434B5C;\n",
              "      --hover-fill-color: #FFFFFF;\n",
              "      --disabled-bg-color: #3B4455;\n",
              "      --disabled-fill-color: #666;\n",
              "  }\n",
              "\n",
              "  .colab-df-quickchart {\n",
              "    background-color: var(--bg-color);\n",
              "    border: none;\n",
              "    border-radius: 50%;\n",
              "    cursor: pointer;\n",
              "    display: none;\n",
              "    fill: var(--fill-color);\n",
              "    height: 32px;\n",
              "    padding: 0;\n",
              "    width: 32px;\n",
              "  }\n",
              "\n",
              "  .colab-df-quickchart:hover {\n",
              "    background-color: var(--hover-bg-color);\n",
              "    box-shadow: 0 1px 2px rgba(60, 64, 67, 0.3), 0 1px 3px 1px rgba(60, 64, 67, 0.15);\n",
              "    fill: var(--button-hover-fill-color);\n",
              "  }\n",
              "\n",
              "  .colab-df-quickchart-complete:disabled,\n",
              "  .colab-df-quickchart-complete:disabled:hover {\n",
              "    background-color: var(--disabled-bg-color);\n",
              "    fill: var(--disabled-fill-color);\n",
              "    box-shadow: none;\n",
              "  }\n",
              "\n",
              "  .colab-df-spinner {\n",
              "    border: 2px solid var(--fill-color);\n",
              "    border-color: transparent;\n",
              "    border-bottom-color: var(--fill-color);\n",
              "    animation:\n",
              "      spin 1s steps(1) infinite;\n",
              "  }\n",
              "\n",
              "  @keyframes spin {\n",
              "    0% {\n",
              "      border-color: transparent;\n",
              "      border-bottom-color: var(--fill-color);\n",
              "      border-left-color: var(--fill-color);\n",
              "    }\n",
              "    20% {\n",
              "      border-color: transparent;\n",
              "      border-left-color: var(--fill-color);\n",
              "      border-top-color: var(--fill-color);\n",
              "    }\n",
              "    30% {\n",
              "      border-color: transparent;\n",
              "      border-left-color: var(--fill-color);\n",
              "      border-top-color: var(--fill-color);\n",
              "      border-right-color: var(--fill-color);\n",
              "    }\n",
              "    40% {\n",
              "      border-color: transparent;\n",
              "      border-right-color: var(--fill-color);\n",
              "      border-top-color: var(--fill-color);\n",
              "    }\n",
              "    60% {\n",
              "      border-color: transparent;\n",
              "      border-right-color: var(--fill-color);\n",
              "    }\n",
              "    80% {\n",
              "      border-color: transparent;\n",
              "      border-right-color: var(--fill-color);\n",
              "      border-bottom-color: var(--fill-color);\n",
              "    }\n",
              "    90% {\n",
              "      border-color: transparent;\n",
              "      border-bottom-color: var(--fill-color);\n",
              "    }\n",
              "  }\n",
              "</style>\n",
              "\n",
              "  <script>\n",
              "    async function quickchart(key) {\n",
              "      const quickchartButtonEl =\n",
              "        document.querySelector('#' + key + ' button');\n",
              "      quickchartButtonEl.disabled = true;  // To prevent multiple clicks.\n",
              "      quickchartButtonEl.classList.add('colab-df-spinner');\n",
              "      try {\n",
              "        const charts = await google.colab.kernel.invokeFunction(\n",
              "            'suggestCharts', [key], {});\n",
              "      } catch (error) {\n",
              "        console.error('Error during call to suggestCharts:', error);\n",
              "      }\n",
              "      quickchartButtonEl.classList.remove('colab-df-spinner');\n",
              "      quickchartButtonEl.classList.add('colab-df-quickchart-complete');\n",
              "    }\n",
              "    (() => {\n",
              "      let quickchartButtonEl =\n",
              "        document.querySelector('#df-f8cad8be-1e76-4b1a-8565-51761902deec button');\n",
              "      quickchartButtonEl.style.display =\n",
              "        google.colab.kernel.accessAllowed ? 'block' : 'none';\n",
              "    })();\n",
              "  </script>\n",
              "</div>\n",
              "    </div>\n",
              "  </div>\n"
            ],
            "application/vnd.google.colaboratory.intrinsic+json": {
              "type": "dataframe",
              "summary": "{\n  \"name\": \"orchard\",\n  \"rows\": 8,\n  \"fields\": [\n    {\n      \"column\": \"is_cancelled\",\n      \"properties\": {\n        \"dtype\": \"number\",\n        \"std\": 42210.59518981826,\n        \"min\": 0.0,\n        \"max\": 119390.0,\n        \"num_unique_values\": 5,\n        \"samples\": [\n          0.37041628277075134,\n          1.0,\n          0.4829182265925984\n        ],\n        \"semantic_type\": \"\",\n        \"description\": \"\"\n      }\n    },\n    {\n      \"column\": \"lead_time\",\n      \"properties\": {\n        \"dtype\": \"number\",\n        \"std\": 42151.05353185858,\n        \"min\": 0.0,\n        \"max\": 119390.0,\n        \"num_unique_values\": 8,\n        \"samples\": [\n          104.01141636652986,\n          69.0,\n          119390.0\n        ],\n        \"semantic_type\": \"\",\n        \"description\": \"\"\n      }\n    },\n    {\n      \"column\": \"av_daily_rev\",\n      \"properties\": {\n        \"dtype\": \"number\",\n        \"std\": 42016.973603507446,\n        \"min\": -40.0,\n        \"max\": 119390.0,\n        \"num_unique_values\": 8,\n        \"samples\": [\n          636.6128905268448,\n          591.0,\n          119390.0\n        ],\n        \"semantic_type\": \"\",\n        \"description\": \"\"\n      }\n    },\n    {\n      \"column\": \"arrival_date_year\",\n      \"properties\": {\n        \"dtype\": \"number\",\n        \"std\": 41605.08886351336,\n        \"min\": 0.7074759445203559,\n        \"max\": 119390.0,\n        \"num_unique_values\": 6,\n        \"samples\": [\n          119390.0,\n          2018.156554150264,\n          2019.0\n        ],\n        \"semantic_type\": \"\",\n        \"description\": \"\"\n      }\n    },\n    {\n      \"column\": \"arrival_date_week_number\",\n      \"properties\": {\n        \"dtype\": \"number\",\n        \"std\": 42201.81402111843,\n        \"min\": 1.0,\n        \"max\": 119390.0,\n        \"num_unique_values\": 8,\n        \"samples\": [\n          27.16517296255968,\n          28.0,\n          119390.0\n        ],\n        \"semantic_type\": \"\",\n        \"description\": \"\"\n      }\n    },\n    {\n      \"column\": \"arrival_date_day_of_month\",\n      \"properties\": {\n        \"dtype\": \"number\",\n        \"std\": 42205.50879379506,\n        \"min\": 1.0,\n        \"max\": 119390.0,\n        \"num_unique_values\": 8,\n        \"samples\": [\n          15.798241058715135,\n          16.0,\n          119390.0\n        ],\n        \"semantic_type\": \"\",\n        \"description\": \"\"\n      }\n    },\n    {\n      \"column\": \"stays_in_weekend_nights\",\n      \"properties\": {\n        \"dtype\": \"number\",\n        \"std\": 42209.5313308388,\n        \"min\": 0.0,\n        \"max\": 119390.0,\n        \"num_unique_values\": 7,\n        \"samples\": [\n          119390.0,\n          0.9275986263506156,\n          2.0\n        ],\n        \"semantic_type\": \"\",\n        \"description\": \"\"\n      }\n    },\n    {\n      \"column\": \"stays_in_week_nights\",\n      \"properties\": {\n        \"dtype\": \"number\",\n        \"std\": 42207.69159751826,\n        \"min\": 0.0,\n        \"max\": 119390.0,\n        \"num_unique_values\": 8,\n        \"samples\": [\n          2.500301532791691,\n          2.0,\n          119390.0\n        ],\n        \"semantic_type\": \"\",\n        \"description\": \"\"\n      }\n    },\n    {\n      \"column\": \"adults\",\n      \"properties\": {\n        \"dtype\": \"number\",\n        \"std\": 42207.539491149604,\n        \"min\": 0.0,\n        \"max\": 119390.0,\n        \"num_unique_values\": 6,\n        \"samples\": [\n          119390.0,\n          1.8564033838679956,\n          55.0\n        ],\n        \"semantic_type\": \"\",\n        \"description\": \"\"\n      }\n    },\n    {\n      \"column\": \"children\",\n      \"properties\": {\n        \"dtype\": \"number\",\n        \"std\": 42208.79477831908,\n        \"min\": 0.0,\n        \"max\": 119386.0,\n        \"num_unique_values\": 5,\n        \"samples\": [\n          0.10388990333874994,\n          10.0,\n          0.39856144478644173\n        ],\n        \"semantic_type\": \"\",\n        \"description\": \"\"\n      }\n    },\n    {\n      \"column\": \"babies\",\n      \"properties\": {\n        \"dtype\": \"number\",\n        \"std\": 42210.22904846641,\n        \"min\": 0.0,\n        \"max\": 119390.0,\n        \"num_unique_values\": 5,\n        \"samples\": [\n          0.007948739425412514,\n          10.0,\n          0.09743619130126437\n        ],\n        \"semantic_type\": \"\",\n        \"description\": \"\"\n      }\n    },\n    {\n      \"column\": \"is_repeated_guest\",\n      \"properties\": {\n        \"dtype\": \"number\",\n        \"std\": 42210.67830730535,\n        \"min\": 0.0,\n        \"max\": 119390.0,\n        \"num_unique_values\": 5,\n        \"samples\": [\n          0.03191222045397437,\n          1.0,\n          0.17576714541065658\n        ],\n        \"semantic_type\": \"\",\n        \"description\": \"\"\n      }\n    },\n    {\n      \"column\": \"previous_cancellations\",\n      \"properties\": {\n        \"dtype\": \"number\",\n        \"std\": 42209.38002891463,\n        \"min\": 0.0,\n        \"max\": 119390.0,\n        \"num_unique_values\": 5,\n        \"samples\": [\n          0.08711784906608594,\n          26.0,\n          0.8443363841545107\n        ],\n        \"semantic_type\": \"\",\n        \"description\": \"\"\n      }\n    },\n    {\n      \"column\": \"previous_bookings_not_cancelled\",\n      \"properties\": {\n        \"dtype\": \"number\",\n        \"std\": 42207.027663410394,\n        \"min\": 0.0,\n        \"max\": 119390.0,\n        \"num_unique_values\": 5,\n        \"samples\": [\n          0.13709690928888515,\n          72.0,\n          1.4974368477076776\n        ],\n        \"semantic_type\": \"\",\n        \"description\": \"\"\n      }\n    },\n    {\n      \"column\": \"booking_changes\",\n      \"properties\": {\n        \"dtype\": \"number\",\n        \"std\": 42209.63515931599,\n        \"min\": 0.0,\n        \"max\": 119390.0,\n        \"num_unique_values\": 5,\n        \"samples\": [\n          0.22112404724013737,\n          21.0,\n          0.652305572674772\n        ],\n        \"semantic_type\": \"\",\n        \"description\": \"\"\n      }\n    },\n    {\n      \"column\": \"require_pickup\",\n      \"properties\": {\n        \"dtype\": \"number\",\n        \"std\": 42210.31978693818,\n        \"min\": 0.0,\n        \"max\": 119390.0,\n        \"num_unique_values\": 5,\n        \"samples\": [\n          0.06251779881062065,\n          8.0,\n          0.24529114746749361\n        ],\n        \"semantic_type\": \"\",\n        \"description\": \"\"\n      }\n    }\n  ]\n}"
            }
          },
          "metadata": {},
          "execution_count": 14
        }
      ]
    },
    {
      "cell_type": "code",
      "source": [
        "# Check that the target is indeed 0 or 1\n",
        "orchard[\"is_cancelled\"].value_counts()"
      ],
      "metadata": {
        "colab": {
          "base_uri": "https://localhost:8080/"
        },
        "id": "UUuxNFF_NyPy",
        "outputId": "9f4f1ab7-cb96-4902-d636-5e57df9a98ab"
      },
      "execution_count": null,
      "outputs": [
        {
          "output_type": "execute_result",
          "data": {
            "text/plain": [
              "is_cancelled\n",
              "0    75166\n",
              "1    44224\n",
              "Name: count, dtype: int64"
            ]
          },
          "metadata": {},
          "execution_count": 15
        }
      ]
    },
    {
      "cell_type": "code",
      "source": [
        "orchard[\"arrival_date_year\"].value_counts()"
      ],
      "metadata": {
        "colab": {
          "base_uri": "https://localhost:8080/"
        },
        "id": "f17mSaEbOlLi",
        "outputId": "ce8757d2-f683-4256-8988-c34a4863c8f1"
      },
      "execution_count": null,
      "outputs": [
        {
          "output_type": "execute_result",
          "data": {
            "text/plain": [
              "arrival_date_year\n",
              "2018    56707\n",
              "2019    40687\n",
              "2017    21996\n",
              "Name: count, dtype: int64"
            ]
          },
          "metadata": {},
          "execution_count": 16
        }
      ]
    },
    {
      "cell_type": "code",
      "source": [
        "orchard[\"is_repeated_guest\"].value_counts()"
      ],
      "metadata": {
        "colab": {
          "base_uri": "https://localhost:8080/"
        },
        "id": "6P-DgcXJOmZM",
        "outputId": "e60f6e30-e078-4f1d-ccb8-109beda85d4a"
      },
      "execution_count": null,
      "outputs": [
        {
          "output_type": "execute_result",
          "data": {
            "text/plain": [
              "is_repeated_guest\n",
              "0    115580\n",
              "1      3810\n",
              "Name: count, dtype: int64"
            ]
          },
          "metadata": {},
          "execution_count": 17
        }
      ]
    },
    {
      "cell_type": "markdown",
      "source": [
        "# Data Visualization (EDA)"
      ],
      "metadata": {
        "id": "_iEkTgE-QZeV"
      }
    },
    {
      "cell_type": "markdown",
      "source": [
        "## Distribution of the Label Variable"
      ],
      "metadata": {
        "id": "PY34jW2vFJBE"
      }
    },
    {
      "cell_type": "code",
      "source": [
        "# Overall proportion\n",
        "values = orchard['is_cancelled'].value_counts()\n",
        "total = values.sum()\n",
        "\n",
        "percentage_0 = (values[0] /total) * 100\n",
        "percentage_1 = (values[1]/ total) * 100\n",
        "\n",
        "print('percentage of not cancelled:' ,percentage_0)\n",
        "print('percentage of cancelled:' ,percentage_1)"
      ],
      "metadata": {
        "colab": {
          "base_uri": "https://localhost:8080/"
        },
        "id": "W-D_eooTFIg8",
        "outputId": "c4b40186-4c79-4704-c6fd-c95a21f883ea"
      },
      "execution_count": null,
      "outputs": [
        {
          "output_type": "stream",
          "name": "stdout",
          "text": [
            "percentage of not cancelled: 62.958371722924866\n",
            "percentage of cancelled: 37.041628277075134\n"
          ]
        }
      ]
    },
    {
      "cell_type": "markdown",
      "source": [
        "Plot cancellation rates for each hotel:"
      ],
      "metadata": {
        "id": "pd2wSeBINyH_"
      }
    },
    {
      "cell_type": "code",
      "source": [
        "# Group by the 'hotel' variable and count the number of 'is_cancelled' values for each category\n",
        "grouped = orchard.groupby('hotel')['is_cancelled'].value_counts()\n",
        "\n",
        "# Create a chart with two subgraphs\n",
        "fig, (ax1, ax2) = plt.subplots(1, 2, figsize=(12, 6))\n",
        "\n",
        "# Draw a pie chart for the 'CT' category\n",
        "ax1.pie(grouped.loc['CT'],\n",
        "        labels=['Not Cancelled', 'Cancelled'],\n",
        "        autopct='%0.2f%%', startangle=90,\n",
        "        colors=['palegreen', 'tomato'],\n",
        "        explode=(0, 0.1), shadow=True)\n",
        "ax1.set_title('Cancellation Rate for CT')\n",
        "\n",
        "# Draw a pie chart for the 'RS' category\n",
        "ax2.pie(grouped.loc['RS'],\n",
        "        labels=['Not Cancelled', 'Cancelled'],\n",
        "        autopct='%0.2f%%', startangle=90,\n",
        "         colors=['palegreen', 'tomato'],\n",
        "        explode=(0, 0.1), shadow=True)\n",
        "ax2.set_title('Cancellation Rate for RS')\n",
        "\n",
        "# Adjust the spacing between subgraphs\n",
        "plt.subplots_adjust(wspace=0.4)\n",
        "\n",
        "# Show the charts\n",
        "plt.show()"
      ],
      "metadata": {
        "colab": {
          "base_uri": "https://localhost:8080/",
          "height": 372
        },
        "id": "kjc3ep4IMU4X",
        "outputId": "77f645d7-e0df-4f9f-f52f-c2ce8e82e9b6"
      },
      "execution_count": null,
      "outputs": [
        {
          "output_type": "display_data",
          "data": {
            "text/plain": [
              "<Figure size 1200x600 with 2 Axes>"
            ],
            "image/png": "[encoded data removed]"
          },
          "metadata": {}
        }
      ]
    },
    {
      "cell_type": "markdown",
      "source": [
        "不平衡问题"
      ],
      "metadata": {
        "id": "iw_PTeJTP1kt"
      }
    },
    {
      "cell_type": "markdown",
      "source": [
        "## Histograms"
      ],
      "metadata": {
        "id": "XllwWvfKQseG"
      }
    },
    {
      "cell_type": "code",
      "source": [
        "# Histogram of lead_time\n",
        "plt.hist(orchard['lead_time'], bins=50, edgecolor='white')\n",
        "\n",
        "plt.xlabel('# of Days Between Booking and Arrival')\n",
        "plt.ylabel('Frequency')\n",
        "plt.title('Histogram of Lead Time')\n",
        "\n",
        "plt.show()"
      ],
      "metadata": {
        "colab": {
          "base_uri": "https://localhost:8080/",
          "height": 478
        },
        "id": "x--ORbFNQgKi",
        "outputId": "38db8bf8-40fd-46f8-b52e-7cebf769d327"
      },
      "execution_count": null,
      "outputs": [
        {
          "output_type": "display_data",
          "data": {
            "text/plain": [
              "<Figure size 640x480 with 1 Axes>"
            ],
            "image/png": "[encoded data removed]"
          },
          "metadata": {}
        }
      ]
    },
    {
      "cell_type": "code",
      "source": [
        "# Histogram of av_daily_rev\n",
        "plt.hist(orchard['av_daily_rev'][orchard['av_daily_rev'] < 3500],\n",
        "         bins=50, edgecolor='white') # Capped at 3500\n",
        "\n",
        "plt.xlabel('Average Daily Revenue from the Booking in S$')\n",
        "plt.ylabel('Frequency')\n",
        "plt.title('Histogram of Average Daily Revenue from Booking')\n",
        "\n",
        "plt.show()"
      ],
      "metadata": {
        "colab": {
          "base_uri": "https://localhost:8080/",
          "height": 478
        },
        "id": "zJ4LHD_maJ_n",
        "outputId": "a7b20987-07ae-4579-d45c-6ea5e737e8bd"
      },
      "execution_count": null,
      "outputs": [
        {
          "output_type": "display_data",
          "data": {
            "text/plain": [
              "<Figure size 640x480 with 1 Axes>"
            ],
            "image/png": "[encoded data removed]"
          },
          "metadata": {}
        }
      ]
    },
    {
      "cell_type": "markdown",
      "source": [
        "日均收入有<0的，还有>3w的，可能是outliers"
      ],
      "metadata": {
        "id": "ZtlgDP6TDBEC"
      }
    },
    {
      "cell_type": "code",
      "source": [
        "# Calculate the frequency for each year\n",
        "value_counts = orchard['arrival_date_year'].value_counts()\n",
        "\n",
        "# Histogram of arrival_date_year\n",
        "plt.bar(value_counts.index, value_counts.values)\n",
        "\n",
        "plt.xticks([2017, 2018, 2019])\n",
        "plt.xlabel('Arrival Year')\n",
        "plt.ylabel('Frequency')\n",
        "plt.title('Histogram of Arrival Year')\n",
        "\n",
        "plt.show()"
      ],
      "metadata": {
        "colab": {
          "base_uri": "https://localhost:8080/",
          "height": 478
        },
        "id": "RNZnZXMddItY",
        "outputId": "759c45d1-a8ed-401c-ad1a-f4c414f26405"
      },
      "execution_count": null,
      "outputs": [
        {
          "output_type": "display_data",
          "data": {
            "text/plain": [
              "<Figure size 640x480 with 1 Axes>"
            ],
            "image/png": "[encoded data removed]"
          },
          "metadata": {}
        }
      ]
    },
    {
      "cell_type": "markdown",
      "source": [
        "2018年访客激增，2019年又有所下降"
      ],
      "metadata": {
        "id": "J46TYYu8nppW"
      }
    },
    {
      "cell_type": "code",
      "source": [
        "# Calculate the frequency for each month\n",
        "month_counts = orchard['arrival_date_month'].value_counts().sort_index()\n",
        "\n",
        "# Create a new sequential index\n",
        "month_labels = ['January', 'February', 'March', 'April', 'May', 'June', 'July', 'August', 'September', 'October', 'November', 'December']\n",
        "sorted_month_counts = month_counts.reindex(month_labels) # Reindex\n",
        "\n",
        "# Histogram of arrival_date_month\n",
        "plt.bar(range(1, 13), sorted_month_counts)\n",
        "\n",
        "plt.xlabel('Arrival Month')\n",
        "plt.ylabel('Frequency')\n",
        "plt.title('Histogram of Arrival Month')\n",
        "\n",
        "plt.xticks(range(1, 13), month_labels, rotation=45, ha='right')\n",
        "\n",
        "plt.tight_layout()\n",
        "plt.show()"
      ],
      "metadata": {
        "colab": {
          "base_uri": "https://localhost:8080/",
          "height": 475
        },
        "id": "Nybn0BJOVbed",
        "outputId": "8e505fff-7391-4a42-96d8-fef75e0650f4"
      },
      "execution_count": null,
      "outputs": [
        {
          "output_type": "display_data",
          "data": {
            "text/plain": [
              "<Figure size 640x480 with 1 Axes>"
            ],
            "image/png": "[encoded data removed]"
          },
          "metadata": {}
        }
      ]
    },
    {
      "cell_type": "markdown",
      "source": [
        "arrival_date_week_number所显示的大致趋势与月份相同，arrival_date_day_of_month则较均匀没有明显趋势。此处没有单独作图，后面可以考虑结合生成新变量“一年中的抵达日”来看。"
      ],
      "metadata": {
        "id": "7OCwqsj9jw_H"
      }
    },
    {
      "cell_type": "markdown",
      "source": [
        "* 周末/工作日夜晚的数量、成人/儿童/婴儿的人数、以前取消/未取消的次数、更改次数、要求接机次数，这些变量的直方图很相似，都是小值多大值少、有离群值，即tail-heavy。下面给出一例，如果想分析可以修改并查看其他变量，若认为不必分析则可删除此部分。"
      ],
      "metadata": {
        "id": "NLzGViQNlIVE"
      }
    },
    {
      "cell_type": "code",
      "source": [
        "# Histogram of stays_in_weekend_nights\n",
        "plt.hist(orchard['stays_in_weekend_nights'], bins=20, edgecolor='white')\n",
        "\n",
        "plt.xlabel('# of Weekend Nights')\n",
        "plt.ylabel('Frequency')\n",
        "plt.title('Histogram of Weekend Nights')\n",
        "\n",
        "plt.show()"
      ],
      "metadata": {
        "colab": {
          "base_uri": "https://localhost:8080/",
          "height": 478
        },
        "id": "33PfcYi5cY1G",
        "outputId": "7da735c8-53ee-49ca-8ebb-fb64a74de2bc"
      },
      "execution_count": null,
      "outputs": [
        {
          "output_type": "display_data",
          "data": {
            "text/plain": [
              "<Figure size 640x480 with 1 Axes>"
            ],
            "image/png": "[encoded data removed]"
          },
          "metadata": {}
        }
      ]
    },
    {
      "cell_type": "markdown",
      "source": [
        "* 对于这些重尾分布的数值型变量，后面在特征工程中取对数,这是因为大多数机器学习模型不能很好地处理非正态分布的数据。重尾分布是指具有比正态分布更厚的尾部的分布，这意味着极端值（较大或较小的值）出现的可能性更大。尾部的厚度取决于离群值的相对频率和离群值与主要分布之间的差异。如果离群值的频率较低且离群值与主要分布之间存在较大差异，则可以认为这个分布具有重尾特征。如上面的('lead_time', 'av_daily_rev', 'stays_in_weekend_nights', 'stays_in_week_nights', 'adults', 'children', 'babies', 'previous_cancellations', 'previous_bookings_not_cancelled', 'booking_changes', 'require_pickup')都是重尾/长尾分布\n",
        "\n",
        "* PPT中写到： If distribution of an attribute (to be used in ML training later) is tail-heavy, it may allow small number of large value upset the analysis – take log of the attribute."
      ],
      "metadata": {
        "id": "HNy6onYHQfqw"
      }
    },
    {
      "cell_type": "markdown",
      "source": [
        "Repeat booking and cancellation by hotel:"
      ],
      "metadata": {
        "id": "ouzDLzL_S7wU"
      }
    },
    {
      "cell_type": "code",
      "source": [
        "# Repeated guest account for cancelled and uncancelled guest\n",
        "counts_1 = orchard.groupby(['hotel', 'is_cancelled', 'is_repeated_guest']).size().unstack()\n",
        "\n",
        "# Draw a stacked bar chart\n",
        "counts_1.plot(kind='bar', stacked=True)\n",
        "\n",
        "plt.title('Repeated Guest by Hotel and Cancellation Status')\n",
        "plt.xticks(rotation=0)\n",
        "plt.ylabel('Count')\n",
        "plt.legend(['not repeated guest', 'repeated guest'])\n",
        "\n",
        "plt.show()"
      ],
      "metadata": {
        "colab": {
          "base_uri": "https://localhost:8080/",
          "height": 479
        },
        "id": "nR8wfhVzgEkY",
        "outputId": "0c222288-0160-48fa-f5a8-9db160ccbebc"
      },
      "execution_count": null,
      "outputs": [
        {
          "output_type": "display_data",
          "data": {
            "text/plain": [
              "<Figure size 640x480 with 1 Axes>"
            ],
            "image/png": "[encoded data removed]"
          },
          "metadata": {}
        }
      ]
    },
    {
      "cell_type": "code",
      "source": [
        "# Cancelled and uncancelled guest account for repeated guest\n",
        "counts_2 = orchard.groupby(['hotel', 'is_repeated_guest', 'is_cancelled']).size().unstack()\n",
        "\n",
        "# Draw a stacked bar chart\n",
        "counts_2.plot(kind='bar', stacked=True)\n",
        "\n",
        "plt.title('CancellationStatus by Hotel and Repeated Guest ')\n",
        "plt.xticks(rotation=0)\n",
        "plt.ylabel('Count')\n",
        "plt.legend(['not cancelled', 'cancelled'])\n",
        "\n",
        "plt.show()"
      ],
      "metadata": {
        "colab": {
          "base_uri": "https://localhost:8080/",
          "height": 479
        },
        "id": "F9ct-8TyR9v2",
        "outputId": "576ec6b4-f38e-405e-aed1-1ae7fba34dee"
      },
      "execution_count": null,
      "outputs": [
        {
          "output_type": "display_data",
          "data": {
            "text/plain": [
              "<Figure size 640x480 with 1 Axes>"
            ],
            "image/png": "[encoded data removed]"
          },
          "metadata": {}
        }
      ]
    },
    {
      "cell_type": "code",
      "source": [
        "percentages = counts_2.div(counts_2.sum(axis=1), axis=0) * 100\n",
        "\n",
        "print(percentages)"
      ],
      "metadata": {
        "colab": {
          "base_uri": "https://localhost:8080/"
        },
        "id": "ZbZ8lebcOjCF",
        "outputId": "f3d7ae59-115e-45c8-a672-a422b6ba4b91"
      },
      "execution_count": null,
      "outputs": [
        {
          "output_type": "stream",
          "name": "stdout",
          "text": [
            "is_cancelled                     0          1\n",
            "hotel is_repeated_guest                      \n",
            "CT    0                  57.746643  42.253357\n",
            "      1                  78.297244  21.702756\n",
            "RS    0                  71.237135  28.762865\n",
            "      1                  93.757030   6.242970\n"
          ]
        }
      ]
    },
    {
      "cell_type": "markdown",
      "source": [
        "CT预定数比RS多，应该是因为商务酒店和度假酒店位置和价格的区别。对这两家酒店，重复预定的客人取消的概率都比较小。CT重复预定的客人中，有78.3%的人未取消，21.7%的人取消了预定,而未重复预定的客人中有42.3%的人取消了预定。RS重复预定的客人中，有93.8%的人未取消，只有6.2%的人取消，而未重复预定的客人中有28.8%的人取消。"
      ],
      "metadata": {
        "id": "mo_adlSZpgbS"
      }
    },
    {
      "cell_type": "code",
      "source": [
        "# Calculate the frequency for each type of room\n",
        "room_counts = orchard['room_type'].value_counts().sort_index()\n",
        "\n",
        "# Create a new sequential index\n",
        "room_labels = ['A', 'B', 'C', 'D', 'E', 'F', 'G', 'H', 'L', 'P']\n",
        "sorted_room_counts = room_counts.reindex(room_labels) # Reindex\n",
        "\n",
        "# Calculate the percentage for each room type\n",
        "room_percentages = sorted_room_counts / sorted_room_counts.sum() * 100\n",
        "\n",
        "# Plot histogram of room_type\n",
        "fig, ax = plt.subplots()\n",
        "ax.bar(range(1, 11), sorted_room_counts)\n",
        "\n",
        "# Add the percentage label\n",
        "for i, v in enumerate(sorted_room_counts):\n",
        "    ax.text(i + 1, v + 1, f'{room_percentages[i]:.2f}%', ha='center', va='bottom', fontsize=10)\n",
        "\n",
        "plt.title('Histogram of Room Type')\n",
        "plt.xlabel('Type of Room Booked')\n",
        "plt.ylabel('Frequency')\n",
        "\n",
        "plt.xticks(range(1, 11), room_labels, ha='right')\n",
        "\n",
        "plt.tight_layout()\n",
        "plt.show()"
      ],
      "metadata": {
        "colab": {
          "base_uri": "https://localhost:8080/",
          "height": 475
        },
        "id": "bo5x-ELOS0bo",
        "outputId": "cb9138fe-3106-4cd1-b9b8-47f3baea6757"
      },
      "execution_count": null,
      "outputs": [
        {
          "output_type": "display_data",
          "data": {
            "text/plain": [
              "<Figure size 640x480 with 1 Axes>"
            ],
            "image/png": "[encoded data removed]"
          },
          "metadata": {}
        }
      ]
    },
    {
      "cell_type": "code",
      "source": [
        "# Repeated guest account for cancelled and uncancelled guest\n",
        "counts_3 = orchard.groupby(['hotel', 'is_cancelled', 'deposit_type']).size().unstack()\n",
        "\n",
        "# Draw a stacked bar chart\n",
        "counts_3.plot(kind='bar', stacked=True)\n",
        "\n",
        "plt.title('Deposit Type by Hotel and Cancellation Status')\n",
        "plt.xticks(rotation=0)\n",
        "plt.ylabel('Count')\n",
        "plt.legend(['No Deposite', 'Non Refund', 'Refundable'])\n",
        "\n",
        "plt.show()"
      ],
      "metadata": {
        "colab": {
          "base_uri": "https://localhost:8080/",
          "height": 479
        },
        "id": "2zyNWwLkcPTy",
        "outputId": "bc9527d6-f686-4a5f-e429-506972503f67"
      },
      "execution_count": null,
      "outputs": [
        {
          "output_type": "display_data",
          "data": {
            "text/plain": [
              "<Figure size 640x480 with 1 Axes>"
            ],
            "image/png": "[encoded data removed]"
          },
          "metadata": {}
        }
      ]
    },
    {
      "cell_type": "code",
      "source": [
        "percentages = counts_3.div(counts_3.sum(axis=1), axis=0) * 100\n",
        "\n",
        "print(percentages)"
      ],
      "metadata": {
        "colab": {
          "base_uri": "https://localhost:8080/"
        },
        "id": "XoyTUDdQdH4q",
        "outputId": "33b9c28f-2b18-47df-a674-b213f674dcae"
      },
      "execution_count": null,
      "outputs": [
        {
          "output_type": "stream",
          "name": "stdout",
          "text": [
            "deposit_type        No Deposit  Non Refund  Refundable\n",
            "hotel is_cancelled                                    \n",
            "CT    0              99.935104    0.051917    0.012979\n",
            "      1              61.156426   38.801281    0.042294\n",
            "RS    0              99.346880    0.238441    0.414680\n",
            "      1              84.966733   14.835461    0.197806\n"
          ]
        }
      ]
    },
    {
      "cell_type": "markdown",
      "source": [
        "绝大部分未取消的预定都是无订金的，绝大部分不退款的都取消了预定，这是为什么？"
      ],
      "metadata": {
        "id": "-MG4mGpkLs5W"
      }
    },
    {
      "cell_type": "markdown",
      "source": [
        "# Feature Engineering"
      ],
      "metadata": {
        "id": "Wkn5lNAODD89"
      }
    },
    {
      "cell_type": "markdown",
      "source": [
        "## Data Transformation"
      ],
      "metadata": {
        "id": "V-QPDoa9Wosr"
      }
    },
    {
      "cell_type": "markdown",
      "source": [
        "Class feature transformation:"
      ],
      "metadata": {
        "id": "1uCnzU_elNGe"
      }
    },
    {
      "cell_type": "code",
      "source": [
        "# Define a dictionary that maps English months to numbers\n",
        "month_mapping = {'January': 1,\n",
        "                 'February': 2,\n",
        "                 'March': 3,\n",
        "                 'April': 4,\n",
        "                 'May': 5,\n",
        "                 'June': 6,\n",
        "                 'July': 7,\n",
        "                 'August': 8,\n",
        "                 'September': 9,\n",
        "                 'October': 10,\n",
        "                 'November': 11,\n",
        "                 'December': 12}\n",
        "\n",
        "# Convert \"arrival_date_month\" into numerical attribute (int64)\n",
        "orchard['arrival_date_month'] = orchard['arrival_date_month'].map(month_mapping)\n",
        "\n",
        "print(orchard['arrival_date_month'].dtypes)"
      ],
      "metadata": {
        "colab": {
          "base_uri": "https://localhost:8080/"
        },
        "id": "N86dJScGSirI",
        "outputId": "1d3de318-e216-4b5c-942e-1f1684bfe63c"
      },
      "execution_count": null,
      "outputs": [
        {
          "output_type": "stream",
          "name": "stdout",
          "text": [
            "int64\n"
          ]
        }
      ]
    },
    {
      "cell_type": "markdown",
      "source": [
        "Smooth log transformation for heavy-tailed continuous variables:"
      ],
      "metadata": {
        "id": "uylefbeMlY1Z"
      }
    },
    {
      "cell_type": "code",
      "source": [
        "variables = ['lead_time', 'av_daily_rev', 'stays_in_weekend_nights', 'stays_in_week_nights',\n",
        "             'adults', 'children', 'babies', 'previous_cancellations',\n",
        "             'previous_bookings_not_cancelled', 'booking_changes', 'require_pickup']\n",
        "\n",
        "for var in variables:\n",
        "    orchard[var] = np.log1p(orchard[var] + 0.1)"
      ],
      "metadata": {
        "colab": {
          "base_uri": "https://localhost:8080/"
        },
        "id": "l22IMIuXlYaR",
        "outputId": "462141e2-ded0-40ef-af68-8faa3810efcc"
      },
      "execution_count": null,
      "outputs": [
        {
          "output_type": "stream",
          "name": "stderr",
          "text": [
            "/usr/local/lib/python3.10/dist-packages/pandas/core/arraylike.py:396: RuntimeWarning: invalid value encountered in log1p\n",
            "  result = getattr(ufunc, method)(*inputs, **kwargs)\n"
          ]
        }
      ]
    },
    {
      "cell_type": "markdown",
      "source": [
        "平滑对数转换方法是添加一个小的常数（例如0.1）到原始变量值上，然后再应用对数转换。这样可以确保零值在转换后不会变成负无穷大。这些变量经过对数转换，之后可以不用再标准化?"
      ],
      "metadata": {
        "id": "TRjemp3gz0Z3"
      }
    },
    {
      "cell_type": "markdown",
      "source": [
        "## Feature Construction"
      ],
      "metadata": {
        "id": "ycUg-7D9WPjm"
      }
    },
    {
      "cell_type": "code",
      "source": [
        "import datetime\n",
        "\n",
        "# Create a list of datetime objects\n",
        "dates = []\n",
        "for year, month, day in zip(orchard['arrival_date_year'], orchard['arrival_date_month'], orchard['arrival_date_day_of_month']):\n",
        "    try:\n",
        "        date = datetime.datetime(year, month, day)\n",
        "        dates.append(date)\n",
        "    except ValueError:\n",
        "        dates.append(None)  # Invalid date, can be handled as needed\n",
        "\n",
        "# Calculate the day of the year for each valid date\n",
        "day_in_year = [date.timetuple().tm_yday if date is not None else None for date in dates]\n",
        "\n",
        "# Add the 'arrival_date_day_in_year' column to the orchard DataFrame\n",
        "orchard['arrival_date_day_in_year'] = day_in_year\n",
        "\n",
        "# Display the modified orchard DataFrame\n",
        "orchard.head()"
      ],
      "metadata": {
        "colab": {
          "base_uri": "https://localhost:8080/",
          "height": 258
        },
        "id": "QaHwVna5exva",
        "outputId": "f473a41b-1400-496f-fd44-0185d1c5586e"
      },
      "execution_count": null,
      "outputs": [
        {
          "output_type": "execute_result",
          "data": {
            "text/plain": [
              "       is_cancelled  lead_time  av_daily_rev  arrival_date_year  \\\n",
              "hotel                                                             \n",
              "RS                0   5.838022      0.095310               2017   \n",
              "RS                0   6.604079      0.095310               2017   \n",
              "RS                0   2.091864      6.152945               2017   \n",
              "RS                0   2.646175      6.152945               2017   \n",
              "RS                0   2.714695      6.420158               2017   \n",
              "\n",
              "       arrival_date_month  arrival_date_week_number  \\\n",
              "hotel                                                 \n",
              "RS                      7                        27   \n",
              "RS                      7                        27   \n",
              "RS                      7                        27   \n",
              "RS                      7                        27   \n",
              "RS                      7                        27   \n",
              "\n",
              "       arrival_date_day_of_month  stays_in_weekend_nights  \\\n",
              "hotel                                                       \n",
              "RS                             1                  0.09531   \n",
              "RS                             1                  0.09531   \n",
              "RS                             1                  0.09531   \n",
              "RS                             1                  0.09531   \n",
              "RS                             1                  0.09531   \n",
              "\n",
              "       stays_in_week_nights    adults  children   babies  is_repeated_guest  \\\n",
              "hotel                                                                         \n",
              "RS                 0.095310  1.131402   0.09531  0.09531                  0   \n",
              "RS                 0.095310  1.131402   0.09531  0.09531                  0   \n",
              "RS                 0.741937  0.741937   0.09531  0.09531                  0   \n",
              "RS                 0.741937  0.741937   0.09531  0.09531                  0   \n",
              "RS                 1.131402  1.131402   0.09531  0.09531                  0   \n",
              "\n",
              "       previous_cancellations  previous_bookings_not_cancelled room_type  \\\n",
              "hotel                                                                      \n",
              "RS                    0.09531                          0.09531         C   \n",
              "RS                    0.09531                          0.09531         C   \n",
              "RS                    0.09531                          0.09531         A   \n",
              "RS                    0.09531                          0.09531         A   \n",
              "RS                    0.09531                          0.09531         A   \n",
              "\n",
              "       booking_changes deposit_type  require_pickup  arrival_date_day_in_year  \n",
              "hotel                                                                          \n",
              "RS            1.410987   No Deposit         0.09531                     182.0  \n",
              "RS            1.629241   No Deposit         0.09531                     182.0  \n",
              "RS            0.095310   No Deposit         0.09531                     182.0  \n",
              "RS            0.095310   No Deposit         0.09531                     182.0  \n",
              "RS            0.095310   No Deposit         0.09531                     182.0  "
            ],
            "text/html": [
              "\n",
              "  <div id=\"df-1eda9c77-c00e-4d82-87fc-663cd51e09f8\" class=\"colab-df-container\">\n",
              "    <div>\n",
              "<style scoped>\n",
              "    .dataframe tbody tr th:only-of-type {\n",
              "        vertical-align: middle;\n",
              "    }\n",
              "\n",
              "    .dataframe tbody tr th {\n",
              "        vertical-align: top;\n",
              "    }\n",
              "\n",
              "    .dataframe thead th {\n",
              "        text-align: right;\n",
              "    }\n",
              "</style>\n",
              "<table border=\"1\" class=\"dataframe\">\n",
              "  <thead>\n",
              "    <tr style=\"text-align: right;\">\n",
              "      <th></th>\n",
              "      <th>is_cancelled</th>\n",
              "      <th>lead_time</th>\n",
              "      <th>av_daily_rev</th>\n",
              "      <th>arrival_date_year</th>\n",
              "      <th>arrival_date_month</th>\n",
              "      <th>arrival_date_week_number</th>\n",
              "      <th>arrival_date_day_of_month</th>\n",
              "      <th>stays_in_weekend_nights</th>\n",
              "      <th>stays_in_week_nights</th>\n",
              "      <th>adults</th>\n",
              "      <th>children</th>\n",
              "      <th>babies</th>\n",
              "      <th>is_repeated_guest</th>\n",
              "      <th>previous_cancellations</th>\n",
              "      <th>previous_bookings_not_cancelled</th>\n",
              "      <th>room_type</th>\n",
              "      <th>booking_changes</th>\n",
              "      <th>deposit_type</th>\n",
              "      <th>require_pickup</th>\n",
              "      <th>arrival_date_day_in_year</th>\n",
              "    </tr>\n",
              "    <tr>\n",
              "      <th>hotel</th>\n",
              "      <th></th>\n",
              "      <th></th>\n",
              "      <th></th>\n",
              "      <th></th>\n",
              "      <th></th>\n",
              "      <th></th>\n",
              "      <th></th>\n",
              "      <th></th>\n",
              "      <th></th>\n",
              "      <th></th>\n",
              "      <th></th>\n",
              "      <th></th>\n",
              "      <th></th>\n",
              "      <th></th>\n",
              "      <th></th>\n",
              "      <th></th>\n",
              "      <th></th>\n",
              "      <th></th>\n",
              "      <th></th>\n",
              "      <th></th>\n",
              "    </tr>\n",
              "  </thead>\n",
              "  <tbody>\n",
              "    <tr>\n",
              "      <th>RS</th>\n",
              "      <td>0</td>\n",
              "      <td>5.838022</td>\n",
              "      <td>0.095310</td>\n",
              "      <td>2017</td>\n",
              "      <td>7</td>\n",
              "      <td>27</td>\n",
              "      <td>1</td>\n",
              "      <td>0.09531</td>\n",
              "      <td>0.095310</td>\n",
              "      <td>1.131402</td>\n",
              "      <td>0.09531</td>\n",
              "      <td>0.09531</td>\n",
              "      <td>0</td>\n",
              "      <td>0.09531</td>\n",
              "      <td>0.09531</td>\n",
              "      <td>C</td>\n",
              "      <td>1.410987</td>\n",
              "      <td>No Deposit</td>\n",
              "      <td>0.09531</td>\n",
              "      <td>182.0</td>\n",
              "    </tr>\n",
              "    <tr>\n",
              "      <th>RS</th>\n",
              "      <td>0</td>\n",
              "      <td>6.604079</td>\n",
              "      <td>0.095310</td>\n",
              "      <td>2017</td>\n",
              "      <td>7</td>\n",
              "      <td>27</td>\n",
              "      <td>1</td>\n",
              "      <td>0.09531</td>\n",
              "      <td>0.095310</td>\n",
              "      <td>1.131402</td>\n",
              "      <td>0.09531</td>\n",
              "      <td>0.09531</td>\n",
              "      <td>0</td>\n",
              "      <td>0.09531</td>\n",
              "      <td>0.09531</td>\n",
              "      <td>C</td>\n",
              "      <td>1.629241</td>\n",
              "      <td>No Deposit</td>\n",
              "      <td>0.09531</td>\n",
              "      <td>182.0</td>\n",
              "    </tr>\n",
              "    <tr>\n",
              "      <th>RS</th>\n",
              "      <td>0</td>\n",
              "      <td>2.091864</td>\n",
              "      <td>6.152945</td>\n",
              "      <td>2017</td>\n",
              "      <td>7</td>\n",
              "      <td>27</td>\n",
              "      <td>1</td>\n",
              "      <td>0.09531</td>\n",
              "      <td>0.741937</td>\n",
              "      <td>0.741937</td>\n",
              "      <td>0.09531</td>\n",
              "      <td>0.09531</td>\n",
              "      <td>0</td>\n",
              "      <td>0.09531</td>\n",
              "      <td>0.09531</td>\n",
              "      <td>A</td>\n",
              "      <td>0.095310</td>\n",
              "      <td>No Deposit</td>\n",
              "      <td>0.09531</td>\n",
              "      <td>182.0</td>\n",
              "    </tr>\n",
              "    <tr>\n",
              "      <th>RS</th>\n",
              "      <td>0</td>\n",
              "      <td>2.646175</td>\n",
              "      <td>6.152945</td>\n",
              "      <td>2017</td>\n",
              "      <td>7</td>\n",
              "      <td>27</td>\n",
              "      <td>1</td>\n",
              "      <td>0.09531</td>\n",
              "      <td>0.741937</td>\n",
              "      <td>0.741937</td>\n",
              "      <td>0.09531</td>\n",
              "      <td>0.09531</td>\n",
              "      <td>0</td>\n",
              "      <td>0.09531</td>\n",
              "      <td>0.09531</td>\n",
              "      <td>A</td>\n",
              "      <td>0.095310</td>\n",
              "      <td>No Deposit</td>\n",
              "      <td>0.09531</td>\n",
              "      <td>182.0</td>\n",
              "    </tr>\n",
              "    <tr>\n",
              "      <th>RS</th>\n",
              "      <td>0</td>\n",
              "      <td>2.714695</td>\n",
              "      <td>6.420158</td>\n",
              "      <td>2017</td>\n",
              "      <td>7</td>\n",
              "      <td>27</td>\n",
              "      <td>1</td>\n",
              "      <td>0.09531</td>\n",
              "      <td>1.131402</td>\n",
              "      <td>1.131402</td>\n",
              "      <td>0.09531</td>\n",
              "      <td>0.09531</td>\n",
              "      <td>0</td>\n",
              "      <td>0.09531</td>\n",
              "      <td>0.09531</td>\n",
              "      <td>A</td>\n",
              "      <td>0.095310</td>\n",
              "      <td>No Deposit</td>\n",
              "      <td>0.09531</td>\n",
              "      <td>182.0</td>\n",
              "    </tr>\n",
              "  </tbody>\n",
              "</table>\n",
              "</div>\n",
              "    <div class=\"colab-df-buttons\">\n",
              "\n",
              "  <div class=\"colab-df-container\">\n",
              "    <button class=\"colab-df-convert\" onclick=\"convertToInteractive('df-1eda9c77-c00e-4d82-87fc-663cd51e09f8')\"\n",
              "            title=\"Convert this dataframe to an interactive table.\"\n",
              "            style=\"display:none;\">\n",
              "\n",
              "  <svg xmlns=\"http://www.w3.org/2000/svg\" height=\"24px\" viewBox=\"0 -960 960 960\">\n",
              "    <path d=\"M120-120v-720h720v720H120Zm60-500h600v-160H180v160Zm220 220h160v-160H400v160Zm0 220h160v-160H400v160ZM180-400h160v-160H180v160Zm440 0h160v-160H620v160ZM180-180h160v-160H180v160Zm440 0h160v-160H620v160Z\"/>\n",
              "  </svg>\n",
              "    </button>\n",
              "\n",
              "  <style>\n",
              "    .colab-df-container {\n",
              "      display:flex;\n",
              "      gap: 12px;\n",
              "    }\n",
              "\n",
              "    .colab-df-convert {\n",
              "      background-color: #E8F0FE;\n",
              "      border: none;\n",
              "      border-radius: 50%;\n",
              "      cursor: pointer;\n",
              "      display: none;\n",
              "      fill: #1967D2;\n",
              "      height: 32px;\n",
              "      padding: 0 0 0 0;\n",
              "      width: 32px;\n",
              "    }\n",
              "\n",
              "    .colab-df-convert:hover {\n",
              "      background-color: #E2EBFA;\n",
              "      box-shadow: 0px 1px 2px rgba(60, 64, 67, 0.3), 0px 1px 3px 1px rgba(60, 64, 67, 0.15);\n",
              "      fill: #174EA6;\n",
              "    }\n",
              "\n",
              "    .colab-df-buttons div {\n",
              "      margin-bottom: 4px;\n",
              "    }\n",
              "\n",
              "    [theme=dark] .colab-df-convert {\n",
              "      background-color: #3B4455;\n",
              "      fill: #D2E3FC;\n",
              "    }\n",
              "\n",
              "    [theme=dark] .colab-df-convert:hover {\n",
              "      background-color: #434B5C;\n",
              "      box-shadow: 0px 1px 3px 1px rgba(0, 0, 0, 0.15);\n",
              "      filter: drop-shadow(0px 1px 2px rgba(0, 0, 0, 0.3));\n",
              "      fill: #FFFFFF;\n",
              "    }\n",
              "  </style>\n",
              "\n",
              "    <script>\n",
              "      const buttonEl =\n",
              "        document.querySelector('#df-1eda9c77-c00e-4d82-87fc-663cd51e09f8 button.colab-df-convert');\n",
              "      buttonEl.style.display =\n",
              "        google.colab.kernel.accessAllowed ? 'block' : 'none';\n",
              "\n",
              "      async function convertToInteractive(key) {\n",
              "        const element = document.querySelector('#df-1eda9c77-c00e-4d82-87fc-663cd51e09f8');\n",
              "        const dataTable =\n",
              "          await google.colab.kernel.invokeFunction('convertToInteractive',\n",
              "                                                    [key], {});\n",
              "        if (!dataTable) return;\n",
              "\n",
              "        const docLinkHtml = 'Like what you see? Visit the ' +\n",
              "          '<a target=\"_blank\" href=https://colab.research.google.com/notebooks/data_table.ipynb>data table notebook</a>'\n",
              "          + ' to learn more about interactive tables.';\n",
              "        element.innerHTML = '';\n",
              "        dataTable['output_type'] = 'display_data';\n",
              "        await google.colab.output.renderOutput(dataTable, element);\n",
              "        const docLink = document.createElement('div');\n",
              "        docLink.innerHTML = docLinkHtml;\n",
              "        element.appendChild(docLink);\n",
              "      }\n",
              "    </script>\n",
              "  </div>\n",
              "\n",
              "\n",
              "<div id=\"df-fe93bfc3-d537-4d26-9628-c2c4f7ceabe1\">\n",
              "  <button class=\"colab-df-quickchart\" onclick=\"quickchart('df-fe93bfc3-d537-4d26-9628-c2c4f7ceabe1')\"\n",
              "            title=\"Suggest charts\"\n",
              "            style=\"display:none;\">\n",
              "\n",
              "<svg xmlns=\"http://www.w3.org/2000/svg\" height=\"24px\"viewBox=\"0 0 24 24\"\n",
              "     width=\"24px\">\n",
              "    <g>\n",
              "        <path d=\"M19 3H5c-1.1 0-2 .9-2 2v14c0 1.1.9 2 2 2h14c1.1 0 2-.9 2-2V5c0-1.1-.9-2-2-2zM9 17H7v-7h2v7zm4 0h-2V7h2v10zm4 0h-2v-4h2v4z\"/>\n",
              "    </g>\n",
              "</svg>\n",
              "  </button>\n",
              "\n",
              "<style>\n",
              "  .colab-df-quickchart {\n",
              "      --bg-color: #E8F0FE;\n",
              "      --fill-color: #1967D2;\n",
              "      --hover-bg-color: #E2EBFA;\n",
              "      --hover-fill-color: #174EA6;\n",
              "      --disabled-fill-color: #AAA;\n",
              "      --disabled-bg-color: #DDD;\n",
              "  }\n",
              "\n",
              "  [theme=dark] .colab-df-quickchart {\n",
              "      --bg-color: #3B4455;\n",
              "      --fill-color: #D2E3FC;\n",
              "      --hover-bg-color: #434B5C;\n",
              "      --hover-fill-color: #FFFFFF;\n",
              "      --disabled-bg-color: #3B4455;\n",
              "      --disabled-fill-color: #666;\n",
              "  }\n",
              "\n",
              "  .colab-df-quickchart {\n",
              "    background-color: var(--bg-color);\n",
              "    border: none;\n",
              "    border-radius: 50%;\n",
              "    cursor: pointer;\n",
              "    display: none;\n",
              "    fill: var(--fill-color);\n",
              "    height: 32px;\n",
              "    padding: 0;\n",
              "    width: 32px;\n",
              "  }\n",
              "\n",
              "  .colab-df-quickchart:hover {\n",
              "    background-color: var(--hover-bg-color);\n",
              "    box-shadow: 0 1px 2px rgba(60, 64, 67, 0.3), 0 1px 3px 1px rgba(60, 64, 67, 0.15);\n",
              "    fill: var(--button-hover-fill-color);\n",
              "  }\n",
              "\n",
              "  .colab-df-quickchart-complete:disabled,\n",
              "  .colab-df-quickchart-complete:disabled:hover {\n",
              "    background-color: var(--disabled-bg-color);\n",
              "    fill: var(--disabled-fill-color);\n",
              "    box-shadow: none;\n",
              "  }\n",
              "\n",
              "  .colab-df-spinner {\n",
              "    border: 2px solid var(--fill-color);\n",
              "    border-color: transparent;\n",
              "    border-bottom-color: var(--fill-color);\n",
              "    animation:\n",
              "      spin 1s steps(1) infinite;\n",
              "  }\n",
              "\n",
              "  @keyframes spin {\n",
              "    0% {\n",
              "      border-color: transparent;\n",
              "      border-bottom-color: var(--fill-color);\n",
              "      border-left-color: var(--fill-color);\n",
              "    }\n",
              "    20% {\n",
              "      border-color: transparent;\n",
              "      border-left-color: var(--fill-color);\n",
              "      border-top-color: var(--fill-color);\n",
              "    }\n",
              "    30% {\n",
              "      border-color: transparent;\n",
              "      border-left-color: var(--fill-color);\n",
              "      border-top-color: var(--fill-color);\n",
              "      border-right-color: var(--fill-color);\n",
              "    }\n",
              "    40% {\n",
              "      border-color: transparent;\n",
              "      border-right-color: var(--fill-color);\n",
              "      border-top-color: var(--fill-color);\n",
              "    }\n",
              "    60% {\n",
              "      border-color: transparent;\n",
              "      border-right-color: var(--fill-color);\n",
              "    }\n",
              "    80% {\n",
              "      border-color: transparent;\n",
              "      border-right-color: var(--fill-color);\n",
              "      border-bottom-color: var(--fill-color);\n",
              "    }\n",
              "    90% {\n",
              "      border-color: transparent;\n",
              "      border-bottom-color: var(--fill-color);\n",
              "    }\n",
              "  }\n",
              "</style>\n",
              "\n",
              "  <script>\n",
              "    async function quickchart(key) {\n",
              "      const quickchartButtonEl =\n",
              "        document.querySelector('#' + key + ' button');\n",
              "      quickchartButtonEl.disabled = true;  // To prevent multiple clicks.\n",
              "      quickchartButtonEl.classList.add('colab-df-spinner');\n",
              "      try {\n",
              "        const charts = await google.colab.kernel.invokeFunction(\n",
              "            'suggestCharts', [key], {});\n",
              "      } catch (error) {\n",
              "        console.error('Error during call to suggestCharts:', error);\n",
              "      }\n",
              "      quickchartButtonEl.classList.remove('colab-df-spinner');\n",
              "      quickchartButtonEl.classList.add('colab-df-quickchart-complete');\n",
              "    }\n",
              "    (() => {\n",
              "      let quickchartButtonEl =\n",
              "        document.querySelector('#df-fe93bfc3-d537-4d26-9628-c2c4f7ceabe1 button');\n",
              "      quickchartButtonEl.style.display =\n",
              "        google.colab.kernel.accessAllowed ? 'block' : 'none';\n",
              "    })();\n",
              "  </script>\n",
              "</div>\n",
              "    </div>\n",
              "  </div>\n"
            ],
            "application/vnd.google.colaboratory.intrinsic+json": {
              "type": "dataframe",
              "variable_name": "orchard"
            }
          },
          "metadata": {},
          "execution_count": 33
        }
      ]
    },
    {
      "cell_type": "markdown",
      "source": [
        "Find invalid date:"
      ],
      "metadata": {
        "id": "7dw_281Dht6C"
      }
    },
    {
      "cell_type": "code",
      "source": [
        "# Filter out the rows where 'arrival_date_day_in_year' is None\n",
        "non_date = orchard[orchard['arrival_date_day_in_year'].isnull()]\n",
        "\n",
        "print(non_date)"
      ],
      "metadata": {
        "colab": {
          "base_uri": "https://localhost:8080/"
        },
        "id": "iA1P7Xk-hOMX",
        "outputId": "2b168082-27ee-4269-fe4e-8dd865451c1b"
      },
      "execution_count": null,
      "outputs": [
        {
          "output_type": "stream",
          "name": "stdout",
          "text": [
            "       is_cancelled  lead_time  av_daily_rev  arrival_date_year  \\\n",
            "hotel                                                             \n",
            "RS                1   3.370738      5.846728               2018   \n",
            "RS                1   4.935193      5.537728               2018   \n",
            "RS                1   3.716008      5.707442               2018   \n",
            "RS                0   1.808289      5.642262               2018   \n",
            "RS                0   0.095310      5.242276               2018   \n",
            "...             ...        ...           ...                ...   \n",
            "CT                0   3.222868      5.656341               2018   \n",
            "CT                0   1.410987      7.043247               2018   \n",
            "CT                0   1.410987      7.079269               2018   \n",
            "CT                0   3.873282      6.433101               2018   \n",
            "CT                0   4.754452      6.463185               2018   \n",
            "\n",
            "       arrival_date_month  arrival_date_week_number  \\\n",
            "hotel                                                 \n",
            "RS                      2                        10   \n",
            "RS                      2                        10   \n",
            "RS                      2                        10   \n",
            "RS                      2                        10   \n",
            "RS                      2                        10   \n",
            "...                   ...                       ...   \n",
            "CT                      2                        10   \n",
            "CT                      2                        10   \n",
            "CT                      2                        10   \n",
            "CT                      2                        10   \n",
            "CT                      2                        10   \n",
            "\n",
            "       arrival_date_day_of_month  stays_in_weekend_nights  \\\n",
            "hotel                                                       \n",
            "RS                            29                 1.410987   \n",
            "RS                            29                 1.410987   \n",
            "RS                            29                 0.741937   \n",
            "RS                            29                 0.741937   \n",
            "RS                            29                 0.741937   \n",
            "...                          ...                      ...   \n",
            "CT                            29                 0.741937   \n",
            "CT                            29                 0.741937   \n",
            "CT                            29                 0.741937   \n",
            "CT                            29                 0.741937   \n",
            "CT                            29                 0.741937   \n",
            "\n",
            "       stays_in_week_nights    adults  children    babies  is_repeated_guest  \\\n",
            "hotel                                                                          \n",
            "RS                 2.091864  1.131402  0.095310  0.095310                  0   \n",
            "RS                 2.091864  1.131402  0.095310  0.095310                  0   \n",
            "RS                 1.629241  1.131402  0.095310  0.095310                  0   \n",
            "RS                 0.741937  1.131402  0.095310  0.095310                  0   \n",
            "RS                 1.410987  0.741937  0.095310  0.095310                  0   \n",
            "...                     ...       ...       ...       ...                ...   \n",
            "CT                 1.410987  1.131402  0.095310  0.095310                  0   \n",
            "CT                 1.410987  1.131402  0.741937  0.741937                  0   \n",
            "CT                 1.410987  1.131402  1.131402  0.095310                  0   \n",
            "CT                 1.410987  1.131402  0.095310  0.095310                  0   \n",
            "CT                 1.808289  1.131402  0.095310  0.095310                  0   \n",
            "\n",
            "       previous_cancellations  previous_bookings_not_cancelled room_type  \\\n",
            "hotel                                                                      \n",
            "RS                    0.09531                         0.095310         A   \n",
            "RS                    0.09531                         0.095310         A   \n",
            "RS                    0.09531                         0.095310         A   \n",
            "RS                    0.09531                         0.095310         A   \n",
            "RS                    0.09531                         1.131402         A   \n",
            "...                       ...                              ...       ...   \n",
            "CT                    0.09531                         0.095310         A   \n",
            "CT                    0.09531                         0.095310         F   \n",
            "CT                    0.09531                         0.095310         F   \n",
            "CT                    0.09531                         0.095310         D   \n",
            "CT                    0.09531                         0.095310         D   \n",
            "\n",
            "       booking_changes deposit_type  require_pickup  arrival_date_day_in_year  \n",
            "hotel                                                                          \n",
            "RS            0.095310   No Deposit        0.095310                       NaN  \n",
            "RS            0.095310   No Deposit        0.095310                       NaN  \n",
            "RS            0.095310   No Deposit        0.095310                       NaN  \n",
            "RS            0.095310   No Deposit        0.095310                       NaN  \n",
            "RS            0.741937   No Deposit        0.095310                       NaN  \n",
            "...                ...          ...             ...                       ...  \n",
            "CT            0.095310   No Deposit        0.095310                       NaN  \n",
            "CT            0.095310   No Deposit        0.095310                       NaN  \n",
            "CT            0.095310   No Deposit        0.095310                       NaN  \n",
            "CT            0.095310   No Deposit        0.741937                       NaN  \n",
            "CT            0.095310   No Deposit        0.095310                       NaN  \n",
            "\n",
            "[96 rows x 20 columns]\n"
          ]
        }
      ]
    },
    {
      "cell_type": "markdown",
      "source": [
        "96个无效日期，都是2018.2.29，2018年不是闰年，可能是人为错误，后续考虑删除。"
      ],
      "metadata": {
        "id": "9vqMGJzkp4Qd"
      }
    },
    {
      "cell_type": "markdown",
      "source": [
        "## Data Cleaning"
      ],
      "metadata": {
        "id": "dQ3H6Lr5qhXw"
      }
    },
    {
      "cell_type": "code",
      "source": [
        "# Checking missing values\n",
        "orchard.isnull().sum()"
      ],
      "metadata": {
        "colab": {
          "base_uri": "https://localhost:8080/"
        },
        "id": "Q0Hqx-R5qlMj",
        "outputId": "cecaa158-af6e-4ee5-e88e-a98af0ed831b"
      },
      "execution_count": null,
      "outputs": [
        {
          "output_type": "execute_result",
          "data": {
            "text/plain": [
              "is_cancelled                       0\n",
              "lead_time                          0\n",
              "av_daily_rev                       0\n",
              "arrival_date_year                  0\n",
              "arrival_date_month                 0\n",
              "arrival_date_week_number           0\n",
              "arrival_date_day_of_month          0\n",
              "stays_in_weekend_nights            0\n",
              "stays_in_week_nights               0\n",
              "adults                             0\n",
              "children                           0\n",
              "babies                             0\n",
              "is_repeated_guest                  0\n",
              "previous_cancellations             0\n",
              "previous_bookings_not_cancelled    0\n",
              "room_type                          0\n",
              "booking_changes                    0\n",
              "deposit_type                       0\n",
              "require_pickup                     0\n",
              "arrival_date_day_in_year           0\n",
              "dtype: int64"
            ]
          },
          "metadata": {},
          "execution_count": 37
        }
      ]
    },
    {
      "cell_type": "markdown",
      "source": [
        "这里av_daily_rev出现一个空值是因为log转换前有一个负值，日均收入不应该有负，考虑为异常值，可删除"
      ],
      "metadata": {
        "id": "0EshadPFzfGz"
      }
    },
    {
      "cell_type": "code",
      "source": [
        "# Delete all rows with missing values\n",
        "orchard = orchard.dropna()\n",
        "\n",
        "orchard.shape"
      ],
      "metadata": {
        "colab": {
          "base_uri": "https://localhost:8080/"
        },
        "id": "-CXmy9INzegU",
        "outputId": "b254a0fa-f7a7-45c1-8a2a-a1d4ffb6b427"
      },
      "execution_count": null,
      "outputs": [
        {
          "output_type": "execute_result",
          "data": {
            "text/plain": [
              "(119289, 20)"
            ]
          },
          "metadata": {},
          "execution_count": 36
        }
      ]
    },
    {
      "cell_type": "markdown",
      "source": [
        "# Coorelations"
      ],
      "metadata": {
        "id": "Qm5Df65OdYGv"
      }
    },
    {
      "cell_type": "code",
      "source": [
        "other_vars = orchard.drop(columns=['room_type', 'deposit_type'])\n",
        "\n",
        "corr_matrix = other_vars.corr()\n",
        "corr_matrix['is_cancelled'].sort_values(ascending=False)"
      ],
      "metadata": {
        "colab": {
          "base_uri": "https://localhost:8080/"
        },
        "id": "jp0IbjaNNcoD",
        "outputId": "2f283d30-f643-4d19-de50-c8345c74bfd5"
      },
      "execution_count": null,
      "outputs": [
        {
          "output_type": "execute_result",
          "data": {
            "text/plain": [
              "is_cancelled                       1.000000\n",
              "lead_time                          0.320290\n",
              "previous_cancellations             0.225893\n",
              "av_daily_rev                       0.083441\n",
              "adults                             0.069630\n",
              "stays_in_week_nights               0.048501\n",
              "arrival_date_year                  0.016761\n",
              "arrival_date_month                 0.011097\n",
              "arrival_date_day_in_year           0.010298\n",
              "arrival_date_week_number           0.008208\n",
              "children                           0.002460\n",
              "stays_in_weekend_nights           -0.004312\n",
              "arrival_date_day_of_month         -0.006190\n",
              "babies                            -0.034200\n",
              "is_repeated_guest                 -0.084707\n",
              "previous_bookings_not_cancelled   -0.097548\n",
              "booking_changes                   -0.170781\n",
              "require_pickup                    -0.197023\n",
              "Name: is_cancelled, dtype: float64"
            ]
          },
          "metadata": {},
          "execution_count": 51
        }
      ]
    },
    {
      "cell_type": "markdown",
      "source": [
        "哪些变量需要着重注意，相关性小于0.01的变量是否要保留？（特征选择）"
      ],
      "metadata": {
        "id": "s7f9ppIZUcGC"
      }
    },
    {
      "cell_type": "markdown",
      "source": [
        "其他问题：1. 对数转换完的变量是否还需要标准化？2. 有object型变量，相关性矩阵热力图怎么做？"
      ],
      "metadata": {
        "id": "YF-fyLlnV3dX"
      }
    },
    {
      "cell_type": "markdown",
      "source": [
        "# Prepare the Dataset for Model Training"
      ],
      "metadata": {
        "id": "BQ9zUrwHGQGP"
      }
    },
    {
      "cell_type": "markdown",
      "source": [
        "## Transformation Pipelines"
      ],
      "metadata": {
        "id": "Qm8kXXEa2Xhh"
      }
    },
    {
      "cell_type": "code",
      "source": [
        "from sklearn.pipeline import make_pipeline\n",
        "from sklearn.impute import SimpleImputer\n",
        "from sklearn.preprocessing import StandardScaler, OneHotEncoder\n",
        "from sklearn.compose import ColumnTransformer\n",
        "\n",
        "num_attribs = ['arrival_date_week_number', 'arrival_date_day_of_month', 'arrival_date_day_in_year']\n",
        "cat_attribs = ['room_type', 'deposit_type']\n",
        "\n",
        "num_pipeline = make_pipeline(SimpleImputer(strategy=\"median\"), StandardScaler())\n",
        "\n",
        "cat_pipeline = make_pipeline(SimpleImputer(strategy='most_frequent'), OneHotEncoder(handle_unknown='ignore'))\n",
        "\n",
        "pre_pipeline = ColumnTransformer([\n",
        "    ('num', num_pipeline, num_attribs),\n",
        "    ('cat', cat_pipeline, cat_attribs)\n",
        "])"
      ],
      "metadata": {
        "id": "lHmSTJTb5U8S"
      },
      "execution_count": null,
      "outputs": []
    },
    {
      "cell_type": "code",
      "source": [
        "# orchard_transformed = pre_pipeline.fit_transform(orchard)"
      ],
      "metadata": {
        "id": "M2K5uwKQWRYO"
      },
      "execution_count": null,
      "outputs": []
    },
    {
      "cell_type": "markdown",
      "source": [
        "## Splitting Training, Testing, and Validation Datasets"
      ],
      "metadata": {
        "id": "cVyV-DToVXQq"
      }
    },
    {
      "cell_type": "markdown",
      "source": [],
      "metadata": {
        "id": "LC3uaCU4Whop"
      }
    },
    {
      "cell_type": "code",
      "source": [],
      "metadata": {
        "id": "LGCYHeoHVONz"
      },
      "execution_count": null,
      "outputs": []
    },
    {
      "cell_type": "markdown",
      "source": [
        "# Model Training"
      ],
      "metadata": {
        "id": "SeOvOf9KWetB"
      }
    }
  ]
}